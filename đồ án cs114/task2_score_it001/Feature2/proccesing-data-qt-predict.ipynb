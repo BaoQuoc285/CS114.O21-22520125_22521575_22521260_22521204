{
 "cells": [
  {
   "cell_type": "code",
   "execution_count": 1,
   "id": "e0d3dcde",
   "metadata": {
    "_cell_guid": "b1076dfc-b9ad-4769-8c92-a6c4dae69d19",
    "_uuid": "8f2839f25d086af736a60e9eeb907d3b93b6e0e5",
    "execution": {
     "iopub.execute_input": "2024-06-28T04:05:52.510126Z",
     "iopub.status.busy": "2024-06-28T04:05:52.509702Z",
     "iopub.status.idle": "2024-06-28T04:05:53.360394Z",
     "shell.execute_reply": "2024-06-28T04:05:53.359512Z"
    },
    "papermill": {
     "duration": 0.870047,
     "end_time": "2024-06-28T04:05:53.363219",
     "exception": false,
     "start_time": "2024-06-28T04:05:52.493172",
     "status": "completed"
    },
    "tags": []
   },
   "outputs": [],
   "source": [
    "import sys  # System-specific parameters and functions\n",
    "import numpy as np  # Fundamental package for scientific computing with Python\n",
    "import pandas as pd  # Powerful data structures for data manipulation and analysis\n",
    "from datetime import datetime  # Basic date and time types\n",
    "import warnings  # Warning control\n",
    "warnings.filterwarnings('ignore')  # Ignore warnings"
   ]
  },
  {
   "cell_type": "code",
   "execution_count": 2,
   "id": "88493642",
   "metadata": {
    "execution": {
     "iopub.execute_input": "2024-06-28T04:05:53.391864Z",
     "iopub.status.busy": "2024-06-28T04:05:53.391335Z",
     "iopub.status.idle": "2024-06-28T04:05:56.022396Z",
     "shell.execute_reply": "2024-06-28T04:05:56.020639Z"
    },
    "papermill": {
     "duration": 2.64853,
     "end_time": "2024-06-28T04:05:56.025228",
     "exception": false,
     "start_time": "2024-06-28T04:05:53.376698",
     "status": "completed"
    },
    "tags": []
   },
   "outputs": [
    {
     "name": "stdout",
     "output_type": "stream",
     "text": [
      "<class 'pandas.core.frame.DataFrame'>\n",
      "Index: 288863 entries, 0 to 295197\n",
      "Data columns (total 11 columns):\n",
      " #   Column                           Non-Null Count   Dtype \n",
      "---  ------                           --------------   ----- \n",
      " 0   concat('it001',`assignment_id`)  288863 non-null  object\n",
      " 1   concat('it001',`problem_id`)     288863 non-null  object\n",
      " 2   concat('it001', username)        288863 non-null  object\n",
      " 3   is_final                         288863 non-null  int64 \n",
      " 4   status                           288863 non-null  object\n",
      " 5   pre_score                        288863 non-null  int64 \n",
      " 6   coefficient                      288863 non-null  int64 \n",
      " 7   concat('it001',`language_id`)    288863 non-null  object\n",
      " 8   created_at                       288863 non-null  object\n",
      " 9   updated_at                       288863 non-null  object\n",
      " 10  judgement                        288863 non-null  object\n",
      "dtypes: int64(3), object(8)\n",
      "memory usage: 26.4+ MB\n"
     ]
    }
   ],
   "source": [
    "df = pd.read_csv('/kaggle/input/competition3/data-tbtl/annonimized.csv')\n",
    "df = df[(df['is_final'] != 0) | (df['pre_score'] != 10000)]\n",
    "df.info()"
   ]
  },
  {
   "cell_type": "code",
   "execution_count": 3,
   "id": "abe7f1c0",
   "metadata": {
    "execution": {
     "iopub.execute_input": "2024-06-28T04:05:56.065070Z",
     "iopub.status.busy": "2024-06-28T04:05:56.064691Z",
     "iopub.status.idle": "2024-06-28T04:05:56.172940Z",
     "shell.execute_reply": "2024-06-28T04:05:56.171576Z"
    },
    "papermill": {
     "duration": 0.131098,
     "end_time": "2024-06-28T04:05:56.175674",
     "exception": false,
     "start_time": "2024-06-28T04:05:56.044576",
     "status": "completed"
    },
    "tags": []
   },
   "outputs": [],
   "source": [
    "df = df.rename(columns={\"concat('it001',`assignment_id`)\": 'assignment_id'})\n",
    "df = df.rename(columns={\"concat('it001',`problem_id`)\":'problem_id'})\n",
    "df = df.rename(columns={\"concat('it001', username)\":'username'})"
   ]
  },
  {
   "cell_type": "code",
   "execution_count": 4,
   "id": "b1e65222",
   "metadata": {
    "execution": {
     "iopub.execute_input": "2024-06-28T04:05:56.204050Z",
     "iopub.status.busy": "2024-06-28T04:05:56.203726Z",
     "iopub.status.idle": "2024-06-28T04:05:56.248952Z",
     "shell.execute_reply": "2024-06-28T04:05:56.247566Z"
    },
    "papermill": {
     "duration": 0.062595,
     "end_time": "2024-06-28T04:05:56.251468",
     "exception": false,
     "start_time": "2024-06-28T04:05:56.188873",
     "status": "completed"
    },
    "tags": []
   },
   "outputs": [],
   "source": [
    "df = df.drop([\"concat('it001',`language_id`)\", 'updated_at'], axis=1)"
   ]
  },
  {
   "cell_type": "code",
   "execution_count": 5,
   "id": "ec367080",
   "metadata": {
    "execution": {
     "iopub.execute_input": "2024-06-28T04:05:56.279064Z",
     "iopub.status.busy": "2024-06-28T04:05:56.278630Z",
     "iopub.status.idle": "2024-06-28T04:07:22.568002Z",
     "shell.execute_reply": "2024-06-28T04:07:22.566792Z"
    },
    "papermill": {
     "duration": 86.306169,
     "end_time": "2024-06-28T04:07:22.570801",
     "exception": false,
     "start_time": "2024-06-28T04:05:56.264632",
     "status": "completed"
    },
    "tags": []
   },
   "outputs": [],
   "source": [
    "def calculate_frequency_vector(student_df):\n",
    "    a = pd.to_datetime(student_df['created_at'], format='%m-%d %H:%M:%S', errors='coerce').dt.hour\n",
    "    a = a.dropna()  # Drop rows with NaT (errors in parsing)\n",
    "\n",
    "    hour_counts = a.value_counts().sort_index()\n",
    "    frequency_vector = np.zeros(24)\n",
    "    for hour, count in hour_counts.items():\n",
    "        hour = int(hour)\n",
    "        frequency_vector[hour] = count\n",
    "    return frequency_vector\n",
    "\n",
    "# Dictionary to store frequency vectors for each student\n",
    "frequency_vectors = {}\n",
    "\n",
    "# Iterate over each unique student and calculate their frequency vector\n",
    "for username in df[\"username\"].unique():\n",
    "    student_df = df[df[\"username\"] == username]\n",
    "    frequency_vectors[username] = calculate_frequency_vector(student_df)"
   ]
  },
  {
   "cell_type": "code",
   "execution_count": 6,
   "id": "3a817c2d",
   "metadata": {
    "execution": {
     "iopub.execute_input": "2024-06-28T04:07:22.599098Z",
     "iopub.status.busy": "2024-06-28T04:07:22.598249Z",
     "iopub.status.idle": "2024-06-28T04:07:22.623432Z",
     "shell.execute_reply": "2024-06-28T04:07:22.622627Z"
    },
    "papermill": {
     "duration": 0.041502,
     "end_time": "2024-06-28T04:07:22.625648",
     "exception": false,
     "start_time": "2024-06-28T04:07:22.584146",
     "status": "completed"
    },
    "tags": []
   },
   "outputs": [],
   "source": [
    "frequency_df = pd.DataFrame.from_dict(frequency_vectors, orient='index', columns=[f'hour_{i}' for i in range(24)]).reset_index()\n",
    "frequency_df.rename(columns={'index': \"username\"}, inplace=True)"
   ]
  },
  {
   "cell_type": "code",
   "execution_count": 7,
   "id": "2d8fe0ab",
   "metadata": {
    "execution": {
     "iopub.execute_input": "2024-06-28T04:07:22.653827Z",
     "iopub.status.busy": "2024-06-28T04:07:22.653119Z",
     "iopub.status.idle": "2024-06-28T04:07:22.780169Z",
     "shell.execute_reply": "2024-06-28T04:07:22.779087Z"
    },
    "papermill": {
     "duration": 0.144109,
     "end_time": "2024-06-28T04:07:22.782801",
     "exception": false,
     "start_time": "2024-06-28T04:07:22.638692",
     "status": "completed"
    },
    "tags": []
   },
   "outputs": [],
   "source": [
    "df = df.merge(frequency_df, on=\"username\")"
   ]
  },
  {
   "cell_type": "code",
   "execution_count": 8,
   "id": "4e9ade37",
   "metadata": {
    "execution": {
     "iopub.execute_input": "2024-06-28T04:07:22.810170Z",
     "iopub.status.busy": "2024-06-28T04:07:22.809806Z",
     "iopub.status.idle": "2024-06-28T04:07:22.962429Z",
     "shell.execute_reply": "2024-06-28T04:07:22.961308Z"
    },
    "papermill": {
     "duration": 0.169234,
     "end_time": "2024-06-28T04:07:22.965131",
     "exception": false,
     "start_time": "2024-06-28T04:07:22.795897",
     "status": "completed"
    },
    "tags": []
   },
   "outputs": [],
   "source": [
    "fixed_year = 2024  # Chọn một năm bất kỳ\n",
    "df['created_at'] = [f\"{fixed_year}-{date}\" for date in df['created_at']]"
   ]
  },
  {
   "cell_type": "code",
   "execution_count": 9,
   "id": "07950ba6",
   "metadata": {
    "execution": {
     "iopub.execute_input": "2024-06-28T04:07:22.993101Z",
     "iopub.status.busy": "2024-06-28T04:07:22.992198Z",
     "iopub.status.idle": "2024-06-28T04:07:25.118452Z",
     "shell.execute_reply": "2024-06-28T04:07:25.117395Z"
    },
    "papermill": {
     "duration": 2.143098,
     "end_time": "2024-06-28T04:07:25.121195",
     "exception": false,
     "start_time": "2024-06-28T04:07:22.978097",
     "status": "completed"
    },
    "tags": []
   },
   "outputs": [],
   "source": [
    "df['created_at'] = pd.to_datetime(df['created_at'])\n",
    "def adjust_year(date):\n",
    "    if date.month >= 9:\n",
    "        return date.replace(year=date.year - 1)\n",
    "    return date\n",
    "\n",
    "# Áp dụng hàm này vào cột 'created_at'\n",
    "df['created_at'] = df['created_at'].apply(adjust_year)"
   ]
  },
  {
   "cell_type": "markdown",
   "id": "d140dd51",
   "metadata": {
    "papermill": {
     "duration": 0.013229,
     "end_time": "2024-06-28T04:07:25.147859",
     "exception": false,
     "start_time": "2024-06-28T04:07:25.134630",
     "status": "completed"
    },
    "tags": []
   },
   "source": [
    "# Xử lý assignment"
   ]
  },
  {
   "cell_type": "code",
   "execution_count": 10,
   "id": "0aa9c291",
   "metadata": {
    "execution": {
     "iopub.execute_input": "2024-06-28T04:07:25.176304Z",
     "iopub.status.busy": "2024-06-28T04:07:25.175422Z",
     "iopub.status.idle": "2024-06-28T04:07:26.271281Z",
     "shell.execute_reply": "2024-06-28T04:07:26.270422Z"
    },
    "papermill": {
     "duration": 1.112777,
     "end_time": "2024-06-28T04:07:26.273894",
     "exception": false,
     "start_time": "2024-06-28T04:07:25.161117",
     "status": "completed"
    },
    "tags": []
   },
   "outputs": [],
   "source": [
    "from sklearn.preprocessing import LabelEncoder"
   ]
  },
  {
   "cell_type": "code",
   "execution_count": 11,
   "id": "e5757845",
   "metadata": {
    "execution": {
     "iopub.execute_input": "2024-06-28T04:07:26.305613Z",
     "iopub.status.busy": "2024-06-28T04:07:26.305232Z",
     "iopub.status.idle": "2024-06-28T04:07:26.402676Z",
     "shell.execute_reply": "2024-06-28T04:07:26.401466Z"
    },
    "papermill": {
     "duration": 0.116169,
     "end_time": "2024-06-28T04:07:26.405281",
     "exception": false,
     "start_time": "2024-06-28T04:07:26.289112",
     "status": "completed"
    },
    "tags": []
   },
   "outputs": [
    {
     "name": "stdout",
     "output_type": "stream",
     "text": [
      "                                        username  \\\n",
      "0       ed9eaeb6a707f50154024b24d7efcb874a9795dd   \n",
      "1       ed9eaeb6a707f50154024b24d7efcb874a9795dd   \n",
      "2       ed9eaeb6a707f50154024b24d7efcb874a9795dd   \n",
      "3       ed9eaeb6a707f50154024b24d7efcb874a9795dd   \n",
      "4       ed9eaeb6a707f50154024b24d7efcb874a9795dd   \n",
      "...                                          ...   \n",
      "288858  232cce96362898f08e9150ba244adaf2d6583ab2   \n",
      "288859  232cce96362898f08e9150ba244adaf2d6583ab2   \n",
      "288860  232cce96362898f08e9150ba244adaf2d6583ab2   \n",
      "288861  232cce96362898f08e9150ba244adaf2d6583ab2   \n",
      "288862  232cce96362898f08e9150ba244adaf2d6583ab2   \n",
      "\n",
      "                                   assignment_id  assignment_id_encoded  \n",
      "0       90ce27571176d87961b565d5ef4b3de33ede04ac                    116  \n",
      "1       90ce27571176d87961b565d5ef4b3de33ede04ac                    116  \n",
      "2       90ce27571176d87961b565d5ef4b3de33ede04ac                    116  \n",
      "3       90ce27571176d87961b565d5ef4b3de33ede04ac                    116  \n",
      "4       90ce27571176d87961b565d5ef4b3de33ede04ac                    116  \n",
      "...                                          ...                    ...  \n",
      "288858  613aea04c978f5e72fffc8bcff1f7b695a63f7b1                     76  \n",
      "288859  613aea04c978f5e72fffc8bcff1f7b695a63f7b1                     76  \n",
      "288860  613aea04c978f5e72fffc8bcff1f7b695a63f7b1                     76  \n",
      "288861  613aea04c978f5e72fffc8bcff1f7b695a63f7b1                     76  \n",
      "288862  613aea04c978f5e72fffc8bcff1f7b695a63f7b1                     76  \n",
      "\n",
      "[288863 rows x 3 columns]\n"
     ]
    }
   ],
   "source": [
    "label_encoder = LabelEncoder()\n",
    "\n",
    "# Fit và transform cột assignment_id\n",
    "df['assignment_id_encoded'] = label_encoder.fit_transform(df['assignment_id'])\n",
    "\n",
    "# Hiển thị kết quả\n",
    "print(df[['username', 'assignment_id', 'assignment_id_encoded']])"
   ]
  },
  {
   "cell_type": "code",
   "execution_count": 12,
   "id": "708375bb",
   "metadata": {
    "execution": {
     "iopub.execute_input": "2024-06-28T04:07:26.434093Z",
     "iopub.status.busy": "2024-06-28T04:07:26.433713Z",
     "iopub.status.idle": "2024-06-28T04:07:26.439431Z",
     "shell.execute_reply": "2024-06-28T04:07:26.438358Z"
    },
    "papermill": {
     "duration": 0.022913,
     "end_time": "2024-06-28T04:07:26.441648",
     "exception": false,
     "start_time": "2024-06-28T04:07:26.418735",
     "status": "completed"
    },
    "tags": []
   },
   "outputs": [],
   "source": [
    "def calculate_assignment_vector(student_df):\n",
    "    a = student_df['assignment_id_encoded'].unique()\n",
    "\n",
    "    assignment_vector = np.zeros(203)\n",
    "    for value in a:\n",
    "        assignment_vector[value] = 1\n",
    "    return assignment_vector"
   ]
  },
  {
   "cell_type": "code",
   "execution_count": 13,
   "id": "4b17235e",
   "metadata": {
    "execution": {
     "iopub.execute_input": "2024-06-28T04:07:26.470676Z",
     "iopub.status.busy": "2024-06-28T04:07:26.470335Z",
     "iopub.status.idle": "2024-06-28T04:07:26.476094Z",
     "shell.execute_reply": "2024-06-28T04:07:26.475064Z"
    },
    "papermill": {
     "duration": 0.022687,
     "end_time": "2024-06-28T04:07:26.478340",
     "exception": false,
     "start_time": "2024-06-28T04:07:26.455653",
     "status": "completed"
    },
    "tags": []
   },
   "outputs": [],
   "source": [
    "def calculate_count_assignment_vector(student_df):\n",
    "    a = student_df.groupby('assignment_id_encoded').size()\n",
    "    count_assignment_vector = np.zeros(203)\n",
    "    for i, count in a.items():\n",
    "        count_assignment_vector[i] = count\n",
    "    return count_assignment_vector"
   ]
  },
  {
   "cell_type": "code",
   "execution_count": 14,
   "id": "31cd6b48",
   "metadata": {
    "execution": {
     "iopub.execute_input": "2024-06-28T04:07:26.507738Z",
     "iopub.status.busy": "2024-06-28T04:07:26.507040Z",
     "iopub.status.idle": "2024-06-28T04:07:26.513408Z",
     "shell.execute_reply": "2024-06-28T04:07:26.512430Z"
    },
    "papermill": {
     "duration": 0.023424,
     "end_time": "2024-06-28T04:07:26.515602",
     "exception": false,
     "start_time": "2024-06-28T04:07:26.492178",
     "status": "completed"
    },
    "tags": []
   },
   "outputs": [],
   "source": [
    "def calculate_status_assignment_vector(student_df):\n",
    "    status_counts = student_df.groupby('assignment_id_encoded')['status'].value_counts()\n",
    "    a = status_counts[status_counts.index.get_level_values(1) != 'SCORE']\n",
    "    status_counts_vector = np.zeros(203)\n",
    "    for i, count in a.items():\n",
    "        status_counts_vector[i[0]] = count\n",
    "    return status_counts_vector"
   ]
  },
  {
   "cell_type": "code",
   "execution_count": 15,
   "id": "89fee453",
   "metadata": {
    "execution": {
     "iopub.execute_input": "2024-06-28T04:07:26.545005Z",
     "iopub.status.busy": "2024-06-28T04:07:26.544346Z",
     "iopub.status.idle": "2024-06-28T04:07:26.550022Z",
     "shell.execute_reply": "2024-06-28T04:07:26.549032Z"
    },
    "papermill": {
     "duration": 0.022502,
     "end_time": "2024-06-28T04:07:26.552234",
     "exception": false,
     "start_time": "2024-06-28T04:07:26.529732",
     "status": "completed"
    },
    "tags": []
   },
   "outputs": [],
   "source": [
    "def calculate_count_problem_vector(student_df):\n",
    "    a = student_df.groupby('assignment_id_encoded')['problem_id'].nunique()\n",
    "    problem_counts_vector = np.zeros(203)\n",
    "    for i, count in a.items():\n",
    "        problem_counts_vector[i] = count\n",
    "    return problem_counts_vector"
   ]
  },
  {
   "cell_type": "code",
   "execution_count": 16,
   "id": "0986feb2",
   "metadata": {
    "execution": {
     "iopub.execute_input": "2024-06-28T04:07:26.580579Z",
     "iopub.status.busy": "2024-06-28T04:07:26.580215Z",
     "iopub.status.idle": "2024-06-28T04:07:26.586183Z",
     "shell.execute_reply": "2024-06-28T04:07:26.585179Z"
    },
    "papermill": {
     "duration": 0.022549,
     "end_time": "2024-06-28T04:07:26.588408",
     "exception": false,
     "start_time": "2024-06-28T04:07:26.565859",
     "status": "completed"
    },
    "tags": []
   },
   "outputs": [],
   "source": [
    "def calculate_time_assignment_vector(student_df):\n",
    "    a = student_df.groupby('assignment_id_encoded')['created_at'].agg(lambda x: (x.max() - x.min()).total_seconds() // 3600)\n",
    "    time_assignment_vector = np.zeros(203)\n",
    "    for i, count in a.items():\n",
    "        time_assignment_vector[i] = count\n",
    "    return time_assignment_vector"
   ]
  },
  {
   "cell_type": "code",
   "execution_count": 17,
   "id": "080247b9",
   "metadata": {
    "execution": {
     "iopub.execute_input": "2024-06-28T04:07:26.617129Z",
     "iopub.status.busy": "2024-06-28T04:07:26.616389Z",
     "iopub.status.idle": "2024-06-28T04:07:26.622157Z",
     "shell.execute_reply": "2024-06-28T04:07:26.621235Z"
    },
    "papermill": {
     "duration": 0.022429,
     "end_time": "2024-06-28T04:07:26.624358",
     "exception": false,
     "start_time": "2024-06-28T04:07:26.601929",
     "status": "completed"
    },
    "tags": []
   },
   "outputs": [],
   "source": [
    "def calculate_count_0_vector(student_df):\n",
    "    counts_0 = student_df.groupby('assignment_id_encoded')['is_final'].value_counts()\n",
    "    a = counts_0[counts_0.index.get_level_values(1) == 0]\n",
    "    counts_0_vector = np.zeros(203)\n",
    "    for i, count in a.items():\n",
    "        counts_0_vector[i[0]] = count\n",
    "    return counts_0_vector"
   ]
  },
  {
   "cell_type": "code",
   "execution_count": 18,
   "id": "d50f80b3",
   "metadata": {
    "execution": {
     "iopub.execute_input": "2024-06-28T04:07:26.653197Z",
     "iopub.status.busy": "2024-06-28T04:07:26.652882Z",
     "iopub.status.idle": "2024-06-28T04:07:26.658670Z",
     "shell.execute_reply": "2024-06-28T04:07:26.657667Z"
    },
    "papermill": {
     "duration": 0.022778,
     "end_time": "2024-06-28T04:07:26.660793",
     "exception": false,
     "start_time": "2024-06-28T04:07:26.638015",
     "status": "completed"
    },
    "tags": []
   },
   "outputs": [],
   "source": [
    "def calculate_mean_prescrore_vector(student_df):\n",
    "    a = student_df.groupby('assignment_id_encoded')['pre_score'].mean()\n",
    "    mean_prescrore_vector = np.zeros(203)\n",
    "    for i, count in a.items():\n",
    "        if count > 0:\n",
    "            mean_prescrore_vector[i] = np.log(count)\n",
    "        else:\n",
    "            mean_prescrore_vector[i] = 0\n",
    "    return mean_prescrore_vector"
   ]
  },
  {
   "cell_type": "code",
   "execution_count": 19,
   "id": "390dd913",
   "metadata": {
    "execution": {
     "iopub.execute_input": "2024-06-28T04:07:26.689529Z",
     "iopub.status.busy": "2024-06-28T04:07:26.689165Z",
     "iopub.status.idle": "2024-06-28T04:07:26.694346Z",
     "shell.execute_reply": "2024-06-28T04:07:26.693429Z"
    },
    "papermill": {
     "duration": 0.02202,
     "end_time": "2024-06-28T04:07:26.696509",
     "exception": false,
     "start_time": "2024-06-28T04:07:26.674489",
     "status": "completed"
    },
    "tags": []
   },
   "outputs": [],
   "source": [
    "# Dictionary to store frequency vectors for each student\n",
    "assignment_vector = {}\n",
    "count_assignment_vector = {}\n",
    "status_counts_vector = {}\n",
    "problem_counts_vector = {}\n",
    "time_assignment_vector = {}\n",
    "counts_0_vector = {}\n",
    "mean_prescrore_vector = {}"
   ]
  },
  {
   "cell_type": "code",
   "execution_count": 20,
   "id": "3e3cf88b",
   "metadata": {
    "execution": {
     "iopub.execute_input": "2024-06-28T04:07:26.725758Z",
     "iopub.status.busy": "2024-06-28T04:07:26.725404Z",
     "iopub.status.idle": "2024-06-28T04:08:53.362344Z",
     "shell.execute_reply": "2024-06-28T04:08:53.361389Z"
    },
    "papermill": {
     "duration": 86.654648,
     "end_time": "2024-06-28T04:08:53.365205",
     "exception": false,
     "start_time": "2024-06-28T04:07:26.710557",
     "status": "completed"
    },
    "tags": []
   },
   "outputs": [],
   "source": [
    "for username in df[\"username\"].unique():\n",
    "    student_df = df[df[\"username\"] == username]\n",
    "    #assignment_vector[username] = calculate_assignment_vector(student_df)\n",
    "    #count_assignment_vector[username] = calculate_count_assignment_vector(student_df)\n",
    "    status_counts_vector[username] = calculate_status_assignment_vector(student_df)\n",
    "    problem_counts_vector[username] = calculate_count_problem_vector(student_df)\n",
    "    #time_assignment_vector[username] = calculate_time_assignment_vector(student_df)\n",
    "    #counts_0_vector[username] = calculate_count_0_vector(student_df)\n",
    "    #mean_prescrore_vector[username] = calculate_mean_prescrore_vector(student_df)"
   ]
  },
  {
   "cell_type": "code",
   "execution_count": 21,
   "id": "6af77ed3",
   "metadata": {
    "execution": {
     "iopub.execute_input": "2024-06-28T04:08:53.395010Z",
     "iopub.status.busy": "2024-06-28T04:08:53.394682Z",
     "iopub.status.idle": "2024-06-28T04:08:53.664049Z",
     "shell.execute_reply": "2024-06-28T04:08:53.663204Z"
    },
    "papermill": {
     "duration": 0.286158,
     "end_time": "2024-06-28T04:08:53.666409",
     "exception": false,
     "start_time": "2024-06-28T04:08:53.380251",
     "status": "completed"
    },
    "tags": []
   },
   "outputs": [],
   "source": [
    "# assignment_df = pd.DataFrame.from_dict(assignment_vector, orient='index', columns=[f'assignment_vector{i}' for i in range(203)]).reset_index()\n",
    "# assignment_df.rename(columns={'index': \"username\"}, inplace=True)\n",
    "\n",
    "# count_assignment_df = pd.DataFrame.from_dict(count_assignment_vector, orient='index', columns=[f'count_assignment_vector{i}' for i in range(203)]).reset_index()\n",
    "# count_assignment_df.rename(columns={'index': \"username\"}, inplace=True)\n",
    "\n",
    "status_counts_df = pd.DataFrame.from_dict(status_counts_vector, orient='index', columns=[f'status_counts_vector{i}' for i in range(203)]).reset_index()\n",
    "status_counts_df.rename(columns={'index': \"username\"}, inplace=True)\n",
    "\n",
    "problem_counts_df = pd.DataFrame.from_dict(problem_counts_vector, orient='index', columns=[f'problem_counts_vector{i}' for i in range(203)]).reset_index()\n",
    "problem_counts_df.rename(columns={'index': \"username\"}, inplace=True)\n",
    "\n",
    "# time_assignment_df = pd.DataFrame.from_dict(time_assignment_vector, orient='index', columns=[f'time_assignment_vector{i}' for i in range(203)]).reset_index()\n",
    "# time_assignment_df.rename(columns={'index': \"username\"}, inplace=True)\n",
    "\n",
    "# counts_0_df = pd.DataFrame.from_dict(counts_0_vector, orient='index', columns=[f'counts_0_vector{i}' for i in range(203)]).reset_index()\n",
    "# counts_0_df.rename(columns={'index': \"username\"}, inplace=True)\n",
    "\n",
    "# mean_prescrore_df = pd.DataFrame.from_dict(mean_prescrore_vector, orient='index', columns=[f'mean_prescrore_vector{i}' for i in range(203)]).reset_index()\n",
    "# mean_prescrore_df.rename(columns={'index': \"username\"}, inplace=True)"
   ]
  },
  {
   "cell_type": "code",
   "execution_count": 22,
   "id": "5159e11a",
   "metadata": {
    "execution": {
     "iopub.execute_input": "2024-06-28T04:08:53.738240Z",
     "iopub.status.busy": "2024-06-28T04:08:53.737871Z",
     "iopub.status.idle": "2024-06-28T04:08:55.163944Z",
     "shell.execute_reply": "2024-06-28T04:08:55.163058Z"
    },
    "papermill": {
     "duration": 1.443611,
     "end_time": "2024-06-28T04:08:55.166620",
     "exception": false,
     "start_time": "2024-06-28T04:08:53.723009",
     "status": "completed"
    },
    "tags": []
   },
   "outputs": [],
   "source": [
    "# df = df.merge(assignment_df, on=\"username\")\n",
    "\n",
    "# df = df.merge(count_assignment_df, on=\"username\")\n",
    "\n",
    "df = df.merge(status_counts_df, on=\"username\")\n",
    "\n",
    "df = df.merge(problem_counts_df, on=\"username\")\n",
    "\n",
    "# df = df.merge(time_assignment_df, on=\"username\")\n",
    "\n",
    "# df = df.merge(counts_0_df, on=\"username\")\n",
    "\n",
    "# df = df.merge(mean_prescrore_df, on=\"username\")"
   ]
  },
  {
   "cell_type": "markdown",
   "id": "8dbc96f0",
   "metadata": {
    "papermill": {
     "duration": 0.01314,
     "end_time": "2024-06-28T04:08:55.193495",
     "exception": false,
     "start_time": "2024-06-28T04:08:55.180355",
     "status": "completed"
    },
    "tags": []
   },
   "source": [
    "# Xử lý problem "
   ]
  },
  {
   "cell_type": "code",
   "execution_count": 23,
   "id": "7295d6a7",
   "metadata": {
    "execution": {
     "iopub.execute_input": "2024-06-28T04:08:55.221508Z",
     "iopub.status.busy": "2024-06-28T04:08:55.221149Z",
     "iopub.status.idle": "2024-06-28T04:08:55.317529Z",
     "shell.execute_reply": "2024-06-28T04:08:55.316398Z"
    },
    "papermill": {
     "duration": 0.113202,
     "end_time": "2024-06-28T04:08:55.319874",
     "exception": false,
     "start_time": "2024-06-28T04:08:55.206672",
     "status": "completed"
    },
    "tags": []
   },
   "outputs": [
    {
     "name": "stdout",
     "output_type": "stream",
     "text": [
      "                                        username  \\\n",
      "0       ed9eaeb6a707f50154024b24d7efcb874a9795dd   \n",
      "1       ed9eaeb6a707f50154024b24d7efcb874a9795dd   \n",
      "2       ed9eaeb6a707f50154024b24d7efcb874a9795dd   \n",
      "3       ed9eaeb6a707f50154024b24d7efcb874a9795dd   \n",
      "4       ed9eaeb6a707f50154024b24d7efcb874a9795dd   \n",
      "...                                          ...   \n",
      "288858  232cce96362898f08e9150ba244adaf2d6583ab2   \n",
      "288859  232cce96362898f08e9150ba244adaf2d6583ab2   \n",
      "288860  232cce96362898f08e9150ba244adaf2d6583ab2   \n",
      "288861  232cce96362898f08e9150ba244adaf2d6583ab2   \n",
      "288862  232cce96362898f08e9150ba244adaf2d6583ab2   \n",
      "\n",
      "                                   assignment_id  problem_id_encoded  \n",
      "0       90ce27571176d87961b565d5ef4b3de33ede04ac                 208  \n",
      "1       90ce27571176d87961b565d5ef4b3de33ede04ac                 208  \n",
      "2       90ce27571176d87961b565d5ef4b3de33ede04ac                 208  \n",
      "3       90ce27571176d87961b565d5ef4b3de33ede04ac                 335  \n",
      "4       90ce27571176d87961b565d5ef4b3de33ede04ac                 212  \n",
      "...                                          ...                 ...  \n",
      "288858  613aea04c978f5e72fffc8bcff1f7b695a63f7b1                  97  \n",
      "288859  613aea04c978f5e72fffc8bcff1f7b695a63f7b1                 378  \n",
      "288860  613aea04c978f5e72fffc8bcff1f7b695a63f7b1                 378  \n",
      "288861  613aea04c978f5e72fffc8bcff1f7b695a63f7b1                 242  \n",
      "288862  613aea04c978f5e72fffc8bcff1f7b695a63f7b1                 401  \n",
      "\n",
      "[288863 rows x 3 columns]\n"
     ]
    }
   ],
   "source": [
    "label_encoder1 = LabelEncoder()\n",
    "\n",
    "# Fit và transform cột assignment_id\n",
    "df['problem_id_encoded'] = label_encoder1.fit_transform(df['problem_id'])\n",
    "\n",
    "# Hiển thị kết quả\n",
    "print(df[['username', 'assignment_id', 'problem_id_encoded']])"
   ]
  },
  {
   "cell_type": "code",
   "execution_count": 24,
   "id": "3e855a46",
   "metadata": {
    "execution": {
     "iopub.execute_input": "2024-06-28T04:08:55.348817Z",
     "iopub.status.busy": "2024-06-28T04:08:55.348415Z",
     "iopub.status.idle": "2024-06-28T04:08:55.353368Z",
     "shell.execute_reply": "2024-06-28T04:08:55.352539Z"
    },
    "papermill": {
     "duration": 0.021809,
     "end_time": "2024-06-28T04:08:55.355342",
     "exception": false,
     "start_time": "2024-06-28T04:08:55.333533",
     "status": "completed"
    },
    "tags": []
   },
   "outputs": [],
   "source": [
    "def calculate_problem_vector(student_df):\n",
    "    a = student_df['problem_id_encoded'].unique()\n",
    "\n",
    "    problem_vector = np.zeros(468)\n",
    "    for value in a:\n",
    "        problem_vector[value] = 1\n",
    "    return problem_vector"
   ]
  },
  {
   "cell_type": "code",
   "execution_count": 25,
   "id": "447bdbaa",
   "metadata": {
    "execution": {
     "iopub.execute_input": "2024-06-28T04:08:55.383527Z",
     "iopub.status.busy": "2024-06-28T04:08:55.383210Z",
     "iopub.status.idle": "2024-06-28T04:08:55.388353Z",
     "shell.execute_reply": "2024-06-28T04:08:55.387447Z"
    },
    "papermill": {
     "duration": 0.021574,
     "end_time": "2024-06-28T04:08:55.390414",
     "exception": false,
     "start_time": "2024-06-28T04:08:55.368840",
     "status": "completed"
    },
    "tags": []
   },
   "outputs": [],
   "source": [
    "def calculate_count_problem_vector(student_df):\n",
    "    a = student_df.groupby('problem_id_encoded').size()\n",
    "    count_problem_vector = np.zeros(468)\n",
    "    for i, count in a.items():\n",
    "        count_problem_vector[i] = count\n",
    "    return count_problem_vector"
   ]
  },
  {
   "cell_type": "code",
   "execution_count": 26,
   "id": "f381ddc8",
   "metadata": {
    "execution": {
     "iopub.execute_input": "2024-06-28T04:08:55.418796Z",
     "iopub.status.busy": "2024-06-28T04:08:55.418094Z",
     "iopub.status.idle": "2024-06-28T04:08:55.423416Z",
     "shell.execute_reply": "2024-06-28T04:08:55.422577Z"
    },
    "papermill": {
     "duration": 0.021793,
     "end_time": "2024-06-28T04:08:55.425568",
     "exception": false,
     "start_time": "2024-06-28T04:08:55.403775",
     "status": "completed"
    },
    "tags": []
   },
   "outputs": [],
   "source": [
    "def calculate_time_problem_vector(student_df):\n",
    "    a = student_df.groupby('problem_id_encoded')['created_at'].agg(lambda x: (x.max() - x.min()).total_seconds() // 3600)\n",
    "    time_problem_vector = np.zeros(468)\n",
    "    for i, count in a.items():\n",
    "        time_problem_vector[i] = count\n",
    "    return time_problem_vector"
   ]
  },
  {
   "cell_type": "code",
   "execution_count": 27,
   "id": "faf100ad",
   "metadata": {
    "execution": {
     "iopub.execute_input": "2024-06-28T04:08:55.453816Z",
     "iopub.status.busy": "2024-06-28T04:08:55.453537Z",
     "iopub.status.idle": "2024-06-28T04:08:55.459139Z",
     "shell.execute_reply": "2024-06-28T04:08:55.458169Z"
    },
    "papermill": {
     "duration": 0.022465,
     "end_time": "2024-06-28T04:08:55.461275",
     "exception": false,
     "start_time": "2024-06-28T04:08:55.438810",
     "status": "completed"
    },
    "tags": []
   },
   "outputs": [],
   "source": [
    "def calculate_count_problem_0_vector(student_df):\n",
    "    count_problem_0 = student_df.groupby('problem_id_encoded')['is_final'].value_counts()\n",
    "    a = count_problem_0[count_problem_0.index.get_level_values(1) == 0]\n",
    "    count_problem_0_vector = np.zeros(468)\n",
    "    for i, count in a.items():\n",
    "        count_problem_0_vector[i[0]] = count\n",
    "    return count_problem_0_vector"
   ]
  },
  {
   "cell_type": "code",
   "execution_count": 28,
   "id": "5612a315",
   "metadata": {
    "execution": {
     "iopub.execute_input": "2024-06-28T04:08:55.490486Z",
     "iopub.status.busy": "2024-06-28T04:08:55.489942Z",
     "iopub.status.idle": "2024-06-28T04:08:55.495691Z",
     "shell.execute_reply": "2024-06-28T04:08:55.494773Z"
    },
    "papermill": {
     "duration": 0.022537,
     "end_time": "2024-06-28T04:08:55.497662",
     "exception": false,
     "start_time": "2024-06-28T04:08:55.475125",
     "status": "completed"
    },
    "tags": []
   },
   "outputs": [],
   "source": [
    "def calculate_mean_prescrore_problem_vector(student_df):\n",
    "    a = student_df.groupby('problem_id_encoded')['pre_score'].mean()\n",
    "    mean_prescrore_problem_vector = np.zeros(468)\n",
    "    for i, count in a.items():\n",
    "        if count > 0:\n",
    "            mean_prescrore_problem_vector[i] = np.log(count)\n",
    "        else:\n",
    "            mean_prescrore_problem_vector[i] = 0\n",
    "    return mean_prescrore_problem_vector"
   ]
  },
  {
   "cell_type": "code",
   "execution_count": 29,
   "id": "7342a3fc",
   "metadata": {
    "execution": {
     "iopub.execute_input": "2024-06-28T04:08:55.526800Z",
     "iopub.status.busy": "2024-06-28T04:08:55.526540Z",
     "iopub.status.idle": "2024-06-28T04:08:55.530729Z",
     "shell.execute_reply": "2024-06-28T04:08:55.529875Z"
    },
    "papermill": {
     "duration": 0.020987,
     "end_time": "2024-06-28T04:08:55.532803",
     "exception": false,
     "start_time": "2024-06-28T04:08:55.511816",
     "status": "completed"
    },
    "tags": []
   },
   "outputs": [],
   "source": [
    "problem_vector = {}\n",
    "count_problem_vector = {}\n",
    "time_problem_vector = {}\n",
    "count_problem_0_vector = {}\n",
    "mean_prescrore_problem_vector = {}"
   ]
  },
  {
   "cell_type": "code",
   "execution_count": 30,
   "id": "2097ee92",
   "metadata": {
    "execution": {
     "iopub.execute_input": "2024-06-28T04:08:55.561931Z",
     "iopub.status.busy": "2024-06-28T04:08:55.561399Z",
     "iopub.status.idle": "2024-06-28T04:10:39.650807Z",
     "shell.execute_reply": "2024-06-28T04:10:39.649865Z"
    },
    "papermill": {
     "duration": 104.106821,
     "end_time": "2024-06-28T04:10:39.653455",
     "exception": false,
     "start_time": "2024-06-28T04:08:55.546634",
     "status": "completed"
    },
    "tags": []
   },
   "outputs": [],
   "source": [
    "for username in df[\"username\"].unique():\n",
    "    student_df = df[df[\"username\"] == username]\n",
    "    problem_vector[username] = calculate_problem_vector(student_df)\n",
    "    count_problem_vector[username] = calculate_count_problem_vector(student_df)\n",
    "    time_problem_vector[username] = calculate_time_problem_vector(student_df)\n",
    "    count_problem_0_vector[username] = calculate_count_problem_0_vector(student_df)\n",
    "    mean_prescrore_problem_vector[username] = calculate_mean_prescrore_problem_vector(student_df)"
   ]
  },
  {
   "cell_type": "code",
   "execution_count": 31,
   "id": "06ca6d46",
   "metadata": {
    "execution": {
     "iopub.execute_input": "2024-06-28T04:10:39.683989Z",
     "iopub.status.busy": "2024-06-28T04:10:39.683619Z",
     "iopub.status.idle": "2024-06-28T04:10:41.320341Z",
     "shell.execute_reply": "2024-06-28T04:10:41.319338Z"
    },
    "papermill": {
     "duration": 1.654762,
     "end_time": "2024-06-28T04:10:41.322981",
     "exception": false,
     "start_time": "2024-06-28T04:10:39.668219",
     "status": "completed"
    },
    "tags": []
   },
   "outputs": [],
   "source": [
    "problem_df = pd.DataFrame.from_dict(problem_vector, orient='index', columns=[f'problem_vector{i}' for i in range(468)]).reset_index()\n",
    "problem_df.rename(columns={'index': \"username\"}, inplace=True)\n",
    "\n",
    "count_problem_df = pd.DataFrame.from_dict(count_problem_vector, orient='index', columns=[f'count_problem_vector{i}' for i in range(468)]).reset_index()\n",
    "count_problem_df.rename(columns={'index': \"username\"}, inplace=True)\n",
    "\n",
    "time_problem_df = pd.DataFrame.from_dict(time_problem_vector, orient='index', columns=[f'time_problem_vector{i}' for i in range(468)]).reset_index()\n",
    "time_problem_df.rename(columns={'index': \"username\"}, inplace=True)\n",
    "\n",
    "count_problem_0_df = pd.DataFrame.from_dict(count_problem_0_vector, orient='index', columns=[f'count_problem_0_vector{i}' for i in range(468)]).reset_index()\n",
    "count_problem_0_df.rename(columns={'index': \"username\"}, inplace=True)\n",
    "\n",
    "mean_prescrore_problem_df = pd.DataFrame.from_dict(mean_prescrore_problem_vector, orient='index', columns=[f'mean_prescrore_problem_vector{i}' for i in range(468)]).reset_index()\n",
    "mean_prescrore_problem_df.rename(columns={'index': \"username\"}, inplace=True)"
   ]
  },
  {
   "cell_type": "code",
   "execution_count": 32,
   "id": "5ea759d4",
   "metadata": {
    "execution": {
     "iopub.execute_input": "2024-06-28T04:10:41.354246Z",
     "iopub.status.busy": "2024-06-28T04:10:41.353319Z",
     "iopub.status.idle": "2024-06-28T04:11:01.834362Z",
     "shell.execute_reply": "2024-06-28T04:11:01.833496Z"
    },
    "papermill": {
     "duration": 20.499275,
     "end_time": "2024-06-28T04:11:01.836837",
     "exception": false,
     "start_time": "2024-06-28T04:10:41.337562",
     "status": "completed"
    },
    "tags": []
   },
   "outputs": [],
   "source": [
    "df = df.merge(problem_df, on=\"username\")\n",
    "\n",
    "df = df.merge(count_problem_df, on=\"username\")\n",
    "\n",
    "df = df.merge(time_problem_df, on=\"username\")\n",
    "\n",
    "df = df.merge(count_problem_0_df, on=\"username\")\n",
    "\n",
    "df = df.merge(mean_prescrore_problem_df, on=\"username\")"
   ]
  },
  {
   "cell_type": "code",
   "execution_count": 33,
   "id": "8e4e256b",
   "metadata": {
    "execution": {
     "iopub.execute_input": "2024-06-28T04:11:01.866966Z",
     "iopub.status.busy": "2024-06-28T04:11:01.866625Z",
     "iopub.status.idle": "2024-06-28T04:11:01.879763Z",
     "shell.execute_reply": "2024-06-28T04:11:01.878875Z"
    },
    "papermill": {
     "duration": 0.030471,
     "end_time": "2024-06-28T04:11:01.881690",
     "exception": false,
     "start_time": "2024-06-28T04:11:01.851219",
     "status": "completed"
    },
    "tags": []
   },
   "outputs": [],
   "source": [
    "def reduce_mem_usage(df, verbose=True):\n",
    "    numerics = ['int16', 'int32', 'int64', 'float16', 'float32', 'float64']\n",
    "    start_mem = df.memory_usage().sum() / 1024**2\n",
    "    for col in df.columns:\n",
    "        col_type = df[col].dtypes\n",
    "        if col_type in numerics:\n",
    "            c_min = df[col].min()\n",
    "            c_max = df[col].max()\n",
    "            if str(col_type)[:3] == 'int':\n",
    "                if c_min > np.iinfo(np.int8).min and c_max < np.iinfo(np.int8).max:\n",
    "                    df[col] = df[col].astype(np.int8)\n",
    "                elif c_min > np.iinfo(np.int16).min and c_max < np.iinfo(np.int16).max:\n",
    "                    df[col] = df[col].astype(np.int16)\n",
    "                elif c_min > np.iinfo(np.int32).min and c_max < np.iinfo(np.int32).max:\n",
    "                    df[col] = df[col].astype(np.int32)\n",
    "                elif c_min > np.iinfo(np.int64).min and c_max < np.iinfo(np.int64).max:\n",
    "                    df[col] = df[col].astype(np.int64)\n",
    "            else:\n",
    "                if c_min > np.finfo(np.float16).min and c_max < np.finfo(np.float16).max:\n",
    "                    df[col] = df[col].astype(np.float16)\n",
    "                elif c_min > np.finfo(np.float32).min and c_max < np.finfo(np.float32).max:\n",
    "                    df[col] = df[col].astype(np.float32)\n",
    "                else:\n",
    "                    df[col] = df[col].astype(np.float64)\n",
    "\n",
    "    end_mem = df.memory_usage().sum() / 1024**2\n",
    "    print('Memory usage after optimization is: {:.2f} MB'.format(end_mem))\n",
    "    print('Decreased by {:.1f}%'.format(100 * (start_mem - end_mem) / start_mem))\n",
    "\n",
    "    return df"
   ]
  },
  {
   "cell_type": "code",
   "execution_count": 34,
   "id": "efc26b56",
   "metadata": {
    "execution": {
     "iopub.execute_input": "2024-06-28T04:11:01.911517Z",
     "iopub.status.busy": "2024-06-28T04:11:01.911151Z",
     "iopub.status.idle": "2024-06-28T04:11:11.789864Z",
     "shell.execute_reply": "2024-06-28T04:11:11.788711Z"
    },
    "papermill": {
     "duration": 9.896447,
     "end_time": "2024-06-28T04:11:11.792283",
     "exception": false,
     "start_time": "2024-06-28T04:11:01.895836",
     "status": "completed"
    },
    "tags": []
   },
   "outputs": [
    {
     "name": "stdout",
     "output_type": "stream",
     "text": [
      "Memory usage after optimization is: 1541.59 MB\n",
      "Decreased by 74.8%\n"
     ]
    }
   ],
   "source": [
    "df = reduce_mem_usage(df)"
   ]
  },
  {
   "cell_type": "code",
   "execution_count": 35,
   "id": "0679b56e",
   "metadata": {
    "execution": {
     "iopub.execute_input": "2024-06-28T04:11:11.822543Z",
     "iopub.status.busy": "2024-06-28T04:11:11.822171Z",
     "iopub.status.idle": "2024-06-28T04:11:27.302064Z",
     "shell.execute_reply": "2024-06-28T04:11:27.300713Z"
    },
    "papermill": {
     "duration": 15.498239,
     "end_time": "2024-06-28T04:11:27.304928",
     "exception": false,
     "start_time": "2024-06-28T04:11:11.806689",
     "status": "completed"
    },
    "tags": []
   },
   "outputs": [
    {
     "name": "stdout",
     "output_type": "stream",
     "text": [
      "Requirement already satisfied: lightgbm in /opt/conda/lib/python3.10/site-packages (4.2.0)\r\n",
      "Requirement already satisfied: catboost in /opt/conda/lib/python3.10/site-packages (1.2.5)\r\n",
      "Requirement already satisfied: numpy in /opt/conda/lib/python3.10/site-packages (from lightgbm) (1.26.4)\r\n",
      "Requirement already satisfied: scipy in /opt/conda/lib/python3.10/site-packages (from lightgbm) (1.11.4)\r\n",
      "Requirement already satisfied: graphviz in /opt/conda/lib/python3.10/site-packages (from catboost) (0.20.3)\r\n",
      "Requirement already satisfied: matplotlib in /opt/conda/lib/python3.10/site-packages (from catboost) (3.7.5)\r\n",
      "Requirement already satisfied: pandas>=0.24 in /opt/conda/lib/python3.10/site-packages (from catboost) (2.2.1)\r\n",
      "Requirement already satisfied: plotly in /opt/conda/lib/python3.10/site-packages (from catboost) (5.18.0)\r\n",
      "Requirement already satisfied: six in /opt/conda/lib/python3.10/site-packages (from catboost) (1.16.0)\r\n",
      "Requirement already satisfied: python-dateutil>=2.8.2 in /opt/conda/lib/python3.10/site-packages (from pandas>=0.24->catboost) (2.9.0.post0)\r\n",
      "Requirement already satisfied: pytz>=2020.1 in /opt/conda/lib/python3.10/site-packages (from pandas>=0.24->catboost) (2023.3.post1)\r\n",
      "Requirement already satisfied: tzdata>=2022.7 in /opt/conda/lib/python3.10/site-packages (from pandas>=0.24->catboost) (2023.4)\r\n",
      "Requirement already satisfied: contourpy>=1.0.1 in /opt/conda/lib/python3.10/site-packages (from matplotlib->catboost) (1.2.0)\r\n",
      "Requirement already satisfied: cycler>=0.10 in /opt/conda/lib/python3.10/site-packages (from matplotlib->catboost) (0.12.1)\r\n",
      "Requirement already satisfied: fonttools>=4.22.0 in /opt/conda/lib/python3.10/site-packages (from matplotlib->catboost) (4.47.0)\r\n",
      "Requirement already satisfied: kiwisolver>=1.0.1 in /opt/conda/lib/python3.10/site-packages (from matplotlib->catboost) (1.4.5)\r\n",
      "Requirement already satisfied: packaging>=20.0 in /opt/conda/lib/python3.10/site-packages (from matplotlib->catboost) (21.3)\r\n",
      "Requirement already satisfied: pillow>=6.2.0 in /opt/conda/lib/python3.10/site-packages (from matplotlib->catboost) (9.5.0)\r\n",
      "Requirement already satisfied: pyparsing>=2.3.1 in /opt/conda/lib/python3.10/site-packages (from matplotlib->catboost) (3.1.1)\r\n",
      "Requirement already satisfied: tenacity>=6.2.0 in /opt/conda/lib/python3.10/site-packages (from plotly->catboost) (8.2.3)\r\n"
     ]
    }
   ],
   "source": [
    "!pip install lightgbm catboost"
   ]
  },
  {
   "cell_type": "code",
   "execution_count": 36,
   "id": "aa0a3b20",
   "metadata": {
    "execution": {
     "iopub.execute_input": "2024-06-28T04:11:27.339077Z",
     "iopub.status.busy": "2024-06-28T04:11:27.338029Z",
     "iopub.status.idle": "2024-06-28T04:11:31.486906Z",
     "shell.execute_reply": "2024-06-28T04:11:31.485769Z"
    },
    "papermill": {
     "duration": 4.169249,
     "end_time": "2024-06-28T04:11:31.489946",
     "exception": false,
     "start_time": "2024-06-28T04:11:27.320697",
     "status": "completed"
    },
    "tags": []
   },
   "outputs": [],
   "source": [
    "import warnings\n",
    "warnings.simplefilter(action='ignore', category=FutureWarning)\n",
    "import os\n",
    "import numpy as np\n",
    "import pandas as pd\n",
    "from datetime import datetime\n",
    "import matplotlib.pyplot as plt\n",
    "import seaborn as sns\n",
    "from sklearn.model_selection import KFold, StratifiedKFold\n",
    "from sklearn.base import BaseEstimator, RegressorMixin\n",
    "from sklearn.metrics import mean_squared_error as MSE\n",
    "import lightgbm as lgb\n",
    "import optuna\n",
    "from sklearn.model_selection import cross_validate\n",
    "from lightgbm import LGBMRegressor\n",
    "from catboost import CatBoostRegressor\n",
    "from sklearn.metrics import r2_score\n",
    "from sklearn.ensemble import VotingRegressor\n",
    "from sklearn.compose import ColumnTransformer\n",
    "from sklearn.pipeline import Pipeline\n",
    "from sklearn.preprocessing import StandardScaler\n",
    "from sklearn.impute import SimpleImputer, KNNImputer"
   ]
  },
  {
   "cell_type": "code",
   "execution_count": 37,
   "id": "732b4020",
   "metadata": {
    "execution": {
     "iopub.execute_input": "2024-06-28T04:11:31.523651Z",
     "iopub.status.busy": "2024-06-28T04:11:31.522574Z",
     "iopub.status.idle": "2024-06-28T04:11:35.026123Z",
     "shell.execute_reply": "2024-06-28T04:11:35.025218Z"
    },
    "papermill": {
     "duration": 3.522841,
     "end_time": "2024-06-28T04:11:35.028636",
     "exception": false,
     "start_time": "2024-06-28T04:11:31.505795",
     "status": "completed"
    },
    "tags": []
   },
   "outputs": [],
   "source": [
    "train_term1 = df.drop(['assignment_id','problem_id','is_final','status','pre_score','coefficient','created_at','judgement'], axis = 1)"
   ]
  },
  {
   "cell_type": "code",
   "execution_count": 38,
   "id": "56e26962",
   "metadata": {
    "execution": {
     "iopub.execute_input": "2024-06-28T04:11:35.062261Z",
     "iopub.status.busy": "2024-06-28T04:11:35.061848Z",
     "iopub.status.idle": "2024-06-28T04:11:38.605309Z",
     "shell.execute_reply": "2024-06-28T04:11:38.604167Z"
    },
    "papermill": {
     "duration": 3.563378,
     "end_time": "2024-06-28T04:11:38.607977",
     "exception": false,
     "start_time": "2024-06-28T04:11:35.044599",
     "status": "completed"
    },
    "tags": []
   },
   "outputs": [],
   "source": [
    "test_term1 = df.drop(['assignment_id','problem_id','is_final','status','pre_score','coefficient','created_at','judgement'], axis = 1)"
   ]
  },
  {
   "cell_type": "code",
   "execution_count": 39,
   "id": "34a99bb1",
   "metadata": {
    "execution": {
     "iopub.execute_input": "2024-06-28T04:11:38.641866Z",
     "iopub.status.busy": "2024-06-28T04:11:38.641448Z",
     "iopub.status.idle": "2024-06-28T04:11:38.963019Z",
     "shell.execute_reply": "2024-06-28T04:11:38.962018Z"
    },
    "papermill": {
     "duration": 0.341325,
     "end_time": "2024-06-28T04:11:38.965711",
     "exception": false,
     "start_time": "2024-06-28T04:11:38.624386",
     "status": "completed"
    },
    "tags": []
   },
   "outputs": [],
   "source": [
    "test_term1.drop_duplicates(subset='username', keep='first', inplace=True)"
   ]
  },
  {
   "cell_type": "code",
   "execution_count": 40,
   "id": "6ae0ad07",
   "metadata": {
    "execution": {
     "iopub.execute_input": "2024-06-28T04:11:38.999038Z",
     "iopub.status.busy": "2024-06-28T04:11:38.998654Z",
     "iopub.status.idle": "2024-06-28T04:11:39.021792Z",
     "shell.execute_reply": "2024-06-28T04:11:39.020798Z"
    },
    "papermill": {
     "duration": 0.042707,
     "end_time": "2024-06-28T04:11:39.024313",
     "exception": false,
     "start_time": "2024-06-28T04:11:38.981606",
     "status": "completed"
    },
    "tags": []
   },
   "outputs": [],
   "source": [
    "qt_train = pd.read_csv('/kaggle/input/competition3/public_it001/qt-public.csv')"
   ]
  },
  {
   "cell_type": "code",
   "execution_count": 41,
   "id": "1b3a2768",
   "metadata": {
    "execution": {
     "iopub.execute_input": "2024-06-28T04:11:39.057956Z",
     "iopub.status.busy": "2024-06-28T04:11:39.057170Z",
     "iopub.status.idle": "2024-06-28T04:11:41.517529Z",
     "shell.execute_reply": "2024-06-28T04:11:41.516564Z"
    },
    "papermill": {
     "duration": 2.480268,
     "end_time": "2024-06-28T04:11:41.520370",
     "exception": false,
     "start_time": "2024-06-28T04:11:39.040102",
     "status": "completed"
    },
    "tags": []
   },
   "outputs": [],
   "source": [
    "qt_train.isnull().sum()\n",
    "qt_train = qt_train.rename(columns={\"hash\":'username'})\n",
    "qt_train.dropna(inplace=True)\n",
    "train_term1 = train_term1.merge(qt_train, on='username', how='inner')\n",
    "train_term1.drop_duplicates(subset='username', keep='first', inplace=True)\n",
    "train_term1['diemqt'] = train_term1['diemqt'].str.replace('\\xa0', ' ', regex=True)\n",
    "train_term1['diemqt'] = train_term1['diemqt'].replace(' ', np.nan).astype(float)\n",
    "train_term1.dropna(inplace=True)"
   ]
  },
  {
   "cell_type": "code",
   "execution_count": 42,
   "id": "47c7fb2b",
   "metadata": {
    "execution": {
     "iopub.execute_input": "2024-06-28T04:11:41.555640Z",
     "iopub.status.busy": "2024-06-28T04:11:41.555227Z",
     "iopub.status.idle": "2024-06-28T04:11:42.494578Z",
     "shell.execute_reply": "2024-06-28T04:11:42.493418Z"
    },
    "papermill": {
     "duration": 0.958902,
     "end_time": "2024-06-28T04:11:42.496866",
     "exception": false,
     "start_time": "2024-06-28T04:11:41.537964",
     "status": "completed"
    },
    "tags": []
   },
   "outputs": [
    {
     "data": {
      "text/html": [
       "<div>\n",
       "<style scoped>\n",
       "    .dataframe tbody tr th:only-of-type {\n",
       "        vertical-align: middle;\n",
       "    }\n",
       "\n",
       "    .dataframe tbody tr th {\n",
       "        vertical-align: top;\n",
       "    }\n",
       "\n",
       "    .dataframe thead th {\n",
       "        text-align: right;\n",
       "    }\n",
       "</style>\n",
       "<table border=\"1\" class=\"dataframe\">\n",
       "  <thead>\n",
       "    <tr style=\"text-align: right;\">\n",
       "      <th></th>\n",
       "      <th>username</th>\n",
       "      <th>hour_0</th>\n",
       "      <th>hour_1</th>\n",
       "      <th>hour_2</th>\n",
       "      <th>hour_3</th>\n",
       "      <th>hour_4</th>\n",
       "      <th>hour_5</th>\n",
       "      <th>hour_6</th>\n",
       "      <th>hour_7</th>\n",
       "      <th>hour_8</th>\n",
       "      <th>...</th>\n",
       "      <th>mean_prescrore_problem_vector458</th>\n",
       "      <th>mean_prescrore_problem_vector459</th>\n",
       "      <th>mean_prescrore_problem_vector460</th>\n",
       "      <th>mean_prescrore_problem_vector461</th>\n",
       "      <th>mean_prescrore_problem_vector462</th>\n",
       "      <th>mean_prescrore_problem_vector463</th>\n",
       "      <th>mean_prescrore_problem_vector464</th>\n",
       "      <th>mean_prescrore_problem_vector465</th>\n",
       "      <th>mean_prescrore_problem_vector466</th>\n",
       "      <th>mean_prescrore_problem_vector467</th>\n",
       "    </tr>\n",
       "  </thead>\n",
       "  <tbody>\n",
       "    <tr>\n",
       "      <th>0</th>\n",
       "      <td>ed9eaeb6a707f50154024b24d7efcb874a9795dd</td>\n",
       "      <td>6.0</td>\n",
       "      <td>6.0</td>\n",
       "      <td>1.0</td>\n",
       "      <td>1.0</td>\n",
       "      <td>6.0</td>\n",
       "      <td>8.0</td>\n",
       "      <td>5.0</td>\n",
       "      <td>11.0</td>\n",
       "      <td>17.0</td>\n",
       "      <td>...</td>\n",
       "      <td>0.000000</td>\n",
       "      <td>0.000000</td>\n",
       "      <td>0.0</td>\n",
       "      <td>0.0</td>\n",
       "      <td>9.03125</td>\n",
       "      <td>0.0</td>\n",
       "      <td>0.000000</td>\n",
       "      <td>8.054688</td>\n",
       "      <td>0.0</td>\n",
       "      <td>0.0</td>\n",
       "    </tr>\n",
       "    <tr>\n",
       "      <th>1</th>\n",
       "      <td>ba12c0a2cb367af0467e479c03507c71a805d291</td>\n",
       "      <td>1.0</td>\n",
       "      <td>3.0</td>\n",
       "      <td>7.0</td>\n",
       "      <td>10.0</td>\n",
       "      <td>25.0</td>\n",
       "      <td>5.0</td>\n",
       "      <td>16.0</td>\n",
       "      <td>28.0</td>\n",
       "      <td>36.0</td>\n",
       "      <td>...</td>\n",
       "      <td>9.210938</td>\n",
       "      <td>7.417969</td>\n",
       "      <td>0.0</td>\n",
       "      <td>0.0</td>\n",
       "      <td>0.00000</td>\n",
       "      <td>0.0</td>\n",
       "      <td>8.875000</td>\n",
       "      <td>9.210938</td>\n",
       "      <td>0.0</td>\n",
       "      <td>0.0</td>\n",
       "    </tr>\n",
       "    <tr>\n",
       "      <th>2</th>\n",
       "      <td>b7298b0fe50443a623af9b56792b330c2d052845</td>\n",
       "      <td>0.0</td>\n",
       "      <td>24.0</td>\n",
       "      <td>28.0</td>\n",
       "      <td>39.0</td>\n",
       "      <td>22.0</td>\n",
       "      <td>2.0</td>\n",
       "      <td>2.0</td>\n",
       "      <td>4.0</td>\n",
       "      <td>7.0</td>\n",
       "      <td>...</td>\n",
       "      <td>9.210938</td>\n",
       "      <td>9.210938</td>\n",
       "      <td>0.0</td>\n",
       "      <td>0.0</td>\n",
       "      <td>0.00000</td>\n",
       "      <td>0.0</td>\n",
       "      <td>9.156250</td>\n",
       "      <td>9.210938</td>\n",
       "      <td>0.0</td>\n",
       "      <td>0.0</td>\n",
       "    </tr>\n",
       "    <tr>\n",
       "      <th>3</th>\n",
       "      <td>c60be70309789b39355dc612f36e37090ccad5dc</td>\n",
       "      <td>0.0</td>\n",
       "      <td>4.0</td>\n",
       "      <td>20.0</td>\n",
       "      <td>13.0</td>\n",
       "      <td>9.0</td>\n",
       "      <td>4.0</td>\n",
       "      <td>5.0</td>\n",
       "      <td>10.0</td>\n",
       "      <td>11.0</td>\n",
       "      <td>...</td>\n",
       "      <td>9.210938</td>\n",
       "      <td>9.210938</td>\n",
       "      <td>0.0</td>\n",
       "      <td>0.0</td>\n",
       "      <td>0.00000</td>\n",
       "      <td>0.0</td>\n",
       "      <td>8.851562</td>\n",
       "      <td>9.125000</td>\n",
       "      <td>0.0</td>\n",
       "      <td>0.0</td>\n",
       "    </tr>\n",
       "    <tr>\n",
       "      <th>4</th>\n",
       "      <td>a22a58c5be8aa2c2700619e37f2b7a6e4efa7e6b</td>\n",
       "      <td>0.0</td>\n",
       "      <td>6.0</td>\n",
       "      <td>0.0</td>\n",
       "      <td>0.0</td>\n",
       "      <td>1.0</td>\n",
       "      <td>1.0</td>\n",
       "      <td>19.0</td>\n",
       "      <td>38.0</td>\n",
       "      <td>55.0</td>\n",
       "      <td>...</td>\n",
       "      <td>9.210938</td>\n",
       "      <td>9.210938</td>\n",
       "      <td>0.0</td>\n",
       "      <td>0.0</td>\n",
       "      <td>0.00000</td>\n",
       "      <td>0.0</td>\n",
       "      <td>9.101562</td>\n",
       "      <td>9.210938</td>\n",
       "      <td>0.0</td>\n",
       "      <td>0.0</td>\n",
       "    </tr>\n",
       "  </tbody>\n",
       "</table>\n",
       "<p>5 rows × 2773 columns</p>\n",
       "</div>"
      ],
      "text/plain": [
       "                                   username  hour_0  hour_1  hour_2  hour_3  \\\n",
       "0  ed9eaeb6a707f50154024b24d7efcb874a9795dd     6.0     6.0     1.0     1.0   \n",
       "1  ba12c0a2cb367af0467e479c03507c71a805d291     1.0     3.0     7.0    10.0   \n",
       "2  b7298b0fe50443a623af9b56792b330c2d052845     0.0    24.0    28.0    39.0   \n",
       "3  c60be70309789b39355dc612f36e37090ccad5dc     0.0     4.0    20.0    13.0   \n",
       "4  a22a58c5be8aa2c2700619e37f2b7a6e4efa7e6b     0.0     6.0     0.0     0.0   \n",
       "\n",
       "   hour_4  hour_5  hour_6  hour_7  hour_8  ...  \\\n",
       "0     6.0     8.0     5.0    11.0    17.0  ...   \n",
       "1    25.0     5.0    16.0    28.0    36.0  ...   \n",
       "2    22.0     2.0     2.0     4.0     7.0  ...   \n",
       "3     9.0     4.0     5.0    10.0    11.0  ...   \n",
       "4     1.0     1.0    19.0    38.0    55.0  ...   \n",
       "\n",
       "   mean_prescrore_problem_vector458  mean_prescrore_problem_vector459  \\\n",
       "0                          0.000000                          0.000000   \n",
       "1                          9.210938                          7.417969   \n",
       "2                          9.210938                          9.210938   \n",
       "3                          9.210938                          9.210938   \n",
       "4                          9.210938                          9.210938   \n",
       "\n",
       "   mean_prescrore_problem_vector460  mean_prescrore_problem_vector461  \\\n",
       "0                               0.0                               0.0   \n",
       "1                               0.0                               0.0   \n",
       "2                               0.0                               0.0   \n",
       "3                               0.0                               0.0   \n",
       "4                               0.0                               0.0   \n",
       "\n",
       "   mean_prescrore_problem_vector462  mean_prescrore_problem_vector463  \\\n",
       "0                           9.03125                               0.0   \n",
       "1                           0.00000                               0.0   \n",
       "2                           0.00000                               0.0   \n",
       "3                           0.00000                               0.0   \n",
       "4                           0.00000                               0.0   \n",
       "\n",
       "   mean_prescrore_problem_vector464  mean_prescrore_problem_vector465  \\\n",
       "0                          0.000000                          8.054688   \n",
       "1                          8.875000                          9.210938   \n",
       "2                          9.156250                          9.210938   \n",
       "3                          8.851562                          9.125000   \n",
       "4                          9.101562                          9.210938   \n",
       "\n",
       "   mean_prescrore_problem_vector466  mean_prescrore_problem_vector467  \n",
       "0                               0.0                               0.0  \n",
       "1                               0.0                               0.0  \n",
       "2                               0.0                               0.0  \n",
       "3                               0.0                               0.0  \n",
       "4                               0.0                               0.0  \n",
       "\n",
       "[5 rows x 2773 columns]"
      ]
     },
     "execution_count": 42,
     "metadata": {},
     "output_type": "execute_result"
    }
   ],
   "source": [
    "common_cols = train_term1.columns.intersection(test_term1.columns)\n",
    "\n",
    "# Tạo DataFrame mới chỉ chứa các cột chung\n",
    "train_term1_common = train_term1[common_cols]\n",
    "df_test_common = test_term1[common_cols]\n",
    "\n",
    "# Tìm các hàng khác nhau\n",
    "different_rows = pd.concat([train_term1_common, df_test_common]).drop_duplicates(keep=False)\n",
    "\n",
    "different_rows.reset_index(drop=True, inplace=True)\n",
    "different_rows.head(5)"
   ]
  },
  {
   "cell_type": "code",
   "execution_count": 43,
   "id": "64f3e6c4",
   "metadata": {
    "execution": {
     "iopub.execute_input": "2024-06-28T04:11:42.531715Z",
     "iopub.status.busy": "2024-06-28T04:11:42.530734Z",
     "iopub.status.idle": "2024-06-28T04:11:42.619976Z",
     "shell.execute_reply": "2024-06-28T04:11:42.618861Z"
    },
    "papermill": {
     "duration": 0.109493,
     "end_time": "2024-06-28T04:11:42.622746",
     "exception": false,
     "start_time": "2024-06-28T04:11:42.513253",
     "status": "completed"
    },
    "tags": []
   },
   "outputs": [],
   "source": [
    "X_test= different_rows.drop(columns=[\"username\"])"
   ]
  },
  {
   "cell_type": "code",
   "execution_count": 44,
   "id": "eac1e503",
   "metadata": {
    "execution": {
     "iopub.execute_input": "2024-06-28T04:11:42.657647Z",
     "iopub.status.busy": "2024-06-28T04:11:42.656948Z",
     "iopub.status.idle": "2024-06-28T04:11:42.844841Z",
     "shell.execute_reply": "2024-06-28T04:11:42.843636Z"
    },
    "papermill": {
     "duration": 0.208113,
     "end_time": "2024-06-28T04:11:42.847423",
     "exception": false,
     "start_time": "2024-06-28T04:11:42.639310",
     "status": "completed"
    },
    "tags": []
   },
   "outputs": [],
   "source": [
    "X_pca = np.asarray(X_test)"
   ]
  },
  {
   "cell_type": "code",
   "execution_count": 45,
   "id": "df1eb42a",
   "metadata": {
    "execution": {
     "iopub.execute_input": "2024-06-28T04:11:42.882037Z",
     "iopub.status.busy": "2024-06-28T04:11:42.881660Z",
     "iopub.status.idle": "2024-06-28T04:11:42.886116Z",
     "shell.execute_reply": "2024-06-28T04:11:42.885093Z"
    },
    "papermill": {
     "duration": 0.02396,
     "end_time": "2024-06-28T04:11:42.888270",
     "exception": false,
     "start_time": "2024-06-28T04:11:42.864310",
     "status": "completed"
    },
    "tags": []
   },
   "outputs": [],
   "source": [
    "import joblib"
   ]
  },
  {
   "cell_type": "code",
   "execution_count": 46,
   "id": "df45e1c3",
   "metadata": {
    "execution": {
     "iopub.execute_input": "2024-06-28T04:11:42.922578Z",
     "iopub.status.busy": "2024-06-28T04:11:42.921897Z",
     "iopub.status.idle": "2024-06-28T04:11:42.973400Z",
     "shell.execute_reply": "2024-06-28T04:11:42.972348Z"
    },
    "papermill": {
     "duration": 0.071308,
     "end_time": "2024-06-28T04:11:42.975777",
     "exception": false,
     "start_time": "2024-06-28T04:11:42.904469",
     "status": "completed"
    },
    "tags": []
   },
   "outputs": [
    {
     "name": "stdout",
     "output_type": "stream",
     "text": [
      "[LightGBM] [Warning] min_data_in_leaf is set=92, min_child_samples=20 will be ignored. Current value: min_data_in_leaf=92\n"
     ]
    }
   ],
   "source": [
    "lgb_model = joblib.load('/kaggle/input/proccesing-data/LGBMRegressor.joblib')\n",
    "y_pre1 = lgb_model.predict(X_pca)"
   ]
  },
  {
   "cell_type": "code",
   "execution_count": 47,
   "id": "3babea4b",
   "metadata": {
    "execution": {
     "iopub.execute_input": "2024-06-28T04:11:43.009829Z",
     "iopub.status.busy": "2024-06-28T04:11:43.009425Z",
     "iopub.status.idle": "2024-06-28T04:11:43.137108Z",
     "shell.execute_reply": "2024-06-28T04:11:43.136235Z"
    },
    "papermill": {
     "duration": 0.147595,
     "end_time": "2024-06-28T04:11:43.139619",
     "exception": false,
     "start_time": "2024-06-28T04:11:42.992024",
     "status": "completed"
    },
    "tags": []
   },
   "outputs": [],
   "source": [
    "cat_model = joblib.load('/kaggle/input/proccesing-data/CatBoostRegressor.joblib')\n",
    "y_pre2 = cat_model.predict(X_pca)"
   ]
  },
  {
   "cell_type": "code",
   "execution_count": 48,
   "id": "db646596",
   "metadata": {
    "execution": {
     "iopub.execute_input": "2024-06-28T04:11:43.174619Z",
     "iopub.status.busy": "2024-06-28T04:11:43.174242Z",
     "iopub.status.idle": "2024-06-28T04:11:43.334844Z",
     "shell.execute_reply": "2024-06-28T04:11:43.333779Z"
    },
    "papermill": {
     "duration": 0.180829,
     "end_time": "2024-06-28T04:11:43.337196",
     "exception": false,
     "start_time": "2024-06-28T04:11:43.156367",
     "status": "completed"
    },
    "tags": []
   },
   "outputs": [
    {
     "name": "stdout",
     "output_type": "stream",
     "text": [
      "[LightGBM] [Warning] min_data_in_leaf is set=92, min_child_samples=20 will be ignored. Current value: min_data_in_leaf=92\n"
     ]
    }
   ],
   "source": [
    "votting_model = joblib.load('/kaggle/input/proccesing-data/voting_regressor.joblib')\n",
    "y_pre3 = votting_model.predict(X_pca)"
   ]
  },
  {
   "cell_type": "code",
   "execution_count": 49,
   "id": "c859c536",
   "metadata": {
    "execution": {
     "iopub.execute_input": "2024-06-28T04:11:43.372027Z",
     "iopub.status.busy": "2024-06-28T04:11:43.371676Z",
     "iopub.status.idle": "2024-06-28T04:11:43.418313Z",
     "shell.execute_reply": "2024-06-28T04:11:43.417549Z"
    },
    "papermill": {
     "duration": 0.066644,
     "end_time": "2024-06-28T04:11:43.420513",
     "exception": false,
     "start_time": "2024-06-28T04:11:43.353869",
     "status": "completed"
    },
    "tags": []
   },
   "outputs": [],
   "source": [
    "username = different_rows['username'].to_list()\n",
    "results1 = []\n",
    "for i, value in enumerate(y_pre1):\n",
    "    results1.append((username[i], value))\n",
    "df = pd.DataFrame(results1, columns=['file_name', 'label'])\n",
    "df.to_csv('output_1.csv', index=False, header=False)"
   ]
  },
  {
   "cell_type": "code",
   "execution_count": 50,
   "id": "c94879d0",
   "metadata": {
    "execution": {
     "iopub.execute_input": "2024-06-28T04:11:43.454933Z",
     "iopub.status.busy": "2024-06-28T04:11:43.454587Z",
     "iopub.status.idle": "2024-06-28T04:11:43.466139Z",
     "shell.execute_reply": "2024-06-28T04:11:43.465158Z"
    },
    "papermill": {
     "duration": 0.0312,
     "end_time": "2024-06-28T04:11:43.468260",
     "exception": false,
     "start_time": "2024-06-28T04:11:43.437060",
     "status": "completed"
    },
    "tags": []
   },
   "outputs": [],
   "source": [
    "results2 = []\n",
    "for i, value in enumerate(y_pre2):\n",
    "    results2.append((username[i], value))\n",
    "df = pd.DataFrame(results2, columns=['file_name', 'label'])\n",
    "df.to_csv('output_2.csv', index=False, header=False)"
   ]
  },
  {
   "cell_type": "code",
   "execution_count": 51,
   "id": "27a1448b",
   "metadata": {
    "execution": {
     "iopub.execute_input": "2024-06-28T04:11:43.502672Z",
     "iopub.status.busy": "2024-06-28T04:11:43.502284Z",
     "iopub.status.idle": "2024-06-28T04:11:43.514140Z",
     "shell.execute_reply": "2024-06-28T04:11:43.513169Z"
    },
    "papermill": {
     "duration": 0.031431,
     "end_time": "2024-06-28T04:11:43.516234",
     "exception": false,
     "start_time": "2024-06-28T04:11:43.484803",
     "status": "completed"
    },
    "tags": []
   },
   "outputs": [],
   "source": [
    "results3 = []\n",
    "for i, value in enumerate(y_pre3):\n",
    "    results3.append((username[i], value))\n",
    "df = pd.DataFrame(results3, columns=['file_name', 'label'])\n",
    "df.to_csv('output_3.csv', index=False, header=False)"
   ]
  }
 ],
 "metadata": {
  "kaggle": {
   "accelerator": "nvidiaTeslaT4",
   "dataSources": [
    {
     "datasetId": 5169654,
     "sourceId": 8633425,
     "sourceType": "datasetVersion"
    },
    {
     "sourceId": 185796964,
     "sourceType": "kernelVersion"
    }
   ],
   "dockerImageVersionId": 30733,
   "isGpuEnabled": true,
   "isInternetEnabled": true,
   "language": "python",
   "sourceType": "notebook"
  },
  "kernelspec": {
   "display_name": "Python 3",
   "language": "python",
   "name": "python3"
  },
  "language_info": {
   "codemirror_mode": {
    "name": "ipython",
    "version": 3
   },
   "file_extension": ".py",
   "mimetype": "text/x-python",
   "name": "python",
   "nbconvert_exporter": "python",
   "pygments_lexer": "ipython3",
   "version": "3.10.13"
  },
  "papermill": {
   "default_parameters": {},
   "duration": 355.35311,
   "end_time": "2024-06-28T04:11:44.655787",
   "environment_variables": {},
   "exception": null,
   "input_path": "__notebook__.ipynb",
   "output_path": "__notebook__.ipynb",
   "parameters": {},
   "start_time": "2024-06-28T04:05:49.302677",
   "version": "2.5.0"
  }
 },
 "nbformat": 4,
 "nbformat_minor": 5
}
