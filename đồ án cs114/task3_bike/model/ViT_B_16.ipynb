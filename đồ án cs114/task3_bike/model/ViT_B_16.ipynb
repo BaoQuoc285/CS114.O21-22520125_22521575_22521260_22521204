{
  "cells": [
    {
      "cell_type": "code",
      "execution_count": 1,
      "metadata": {
        "id": "RlNDc_3aX79p"
      },
      "outputs": [],
      "source": [
        "# import các thư viện\n",
        "import os\n",
        "import numpy as np\n",
        "import keras\n",
        "from keras import layers\n",
        "from tensorflow import data as tf_data\n",
        "import matplotlib.pyplot as plt\n",
        "import pandas as pd\n",
        "from sklearn.model_selection import KFold, StratifiedKFold\n",
        "import tensorflow as tf\n",
        "from tensorflow.keras.preprocessing.image import ImageDataGenerator\n",
        "from PIL import Image"
      ]
    },
    {
      "cell_type": "code",
      "execution_count": 2,
      "metadata": {
        "colab": {
          "base_uri": "https://localhost:8080/"
        },
        "id": "h-dJaNYKX9-C",
        "outputId": "ee46f0e7-fa24-44d0-b42d-e95a54ca8f78"
      },
      "outputs": [
        {
          "output_type": "stream",
          "name": "stdout",
          "text": [
            "Mounted at /content/drive\n"
          ]
        }
      ],
      "source": [
        "from google.colab import drive\n",
        "drive.mount('/content/drive')"
      ]
    },
    {
      "cell_type": "markdown",
      "source": [],
      "metadata": {
        "id": "GeSS4zyGNPPG"
      }
    },
    {
      "cell_type": "code",
      "execution_count": 3,
      "metadata": {
        "id": "4-GSZr3oYfhQ"
      },
      "outputs": [],
      "source": [
        "# mapping\n",
        "labels = {\n",
        "    \"Others\": 0,\n",
        "    \"Honda\": 1,\n",
        "    \"Suzuki\": 2,\n",
        "    \"Yamaha\": 3,\n",
        "    \"VinFast\": 4\n",
        "}\n",
        "reverse_map_labels = {\n",
        "    0: \"Others\",\n",
        "    1: \"Honda\",\n",
        "    2: \"Suzuki\",\n",
        "    3: \"Yamaha\",\n",
        "    4: \"VinFast\"\n",
        "}"
      ]
    },
    {
      "cell_type": "code",
      "execution_count": 4,
      "metadata": {
        "id": "RcDyzIQkYwq4"
      },
      "outputs": [],
      "source": [
        "path = \"/content/drive/MyDrive/data/Public\"\n",
        "output_dir = 'MotocycleDataset.csv'\n",
        "d1 = []\n",
        "error = pd.read_csv('/content/invalid_image_paths(1).csv')\n",
        "error_paths = error.iloc[:, 0].unique().tolist()"
      ]
    },
    {
      "cell_type": "code",
      "execution_count": 5,
      "metadata": {
        "id": "ilyiYwDYYxxQ"
      },
      "outputs": [],
      "source": [
        "def read_path(path, out_put):\n",
        "    data = []\n",
        "    supported_formats = ['jpg', 'png', 'jpeg']\n",
        "\n",
        "    for label in os.listdir(path):\n",
        "        if label in labels:\n",
        "            y = labels[label]\n",
        "            i = 0\n",
        "            new_path = os.path.join(path, label)\n",
        "            if os.listdir(new_path):\n",
        "                for img in os.listdir(new_path):\n",
        "                    if i == 1001: break\n",
        "                    if any(img.lower().endswith(fmt) for fmt in supported_formats):\n",
        "                        path_img = os.path.join(label, img)\n",
        "                        if path_img not in error_paths:\n",
        "                          data.append((path_img, int(y)))\n",
        "                          i += 1\n",
        "\n",
        "    df = pd.DataFrame(data, columns=['ImageFullPath', 'CategoryID'])\n",
        "    df.to_csv(out_put, sep=',', index=False)\n",
        "    return df"
      ]
    },
    {
      "cell_type": "code",
      "execution_count": null,
      "metadata": {
        "id": "_TxxbUkGuZot"
      },
      "outputs": [],
      "source": [
        "# # create file MotocycleDataset.csv\n",
        "# def read_path1(path,out_put):\n",
        "#   data = []\n",
        "#   for label in os.listdir(path):\n",
        "#     if label in labels:\n",
        "#         y = labels[label]\n",
        "#         new_path = os.path.join(path,label)\n",
        "#         if os.listdir(new_path):\n",
        "#           for img in os.listdir(new_path):\n",
        "#                 type_img = img.split('.')[-1]\n",
        "\n",
        "#                 if type_img == 'jfif' or type_img == 'webp' or type_img == 'jpe' or type_img == 'gif' or type_img == 'avif':\n",
        "#                   path_img = os.path.join(label,img)\n",
        "#                   d1.append(path_img)\n",
        "#     #           if img.endswith('jpg') or img.endswith('jpeg') or img.endswith('png'):\n",
        "#     #             path_img = os.path.join(label,img)\n",
        "#     #             data.append((path_img,int(y)))\n",
        "#     # df = pd.DataFrame(data,columns = ['ImageFullPath','CategoryID'])\n",
        "#     # df.to_csv(out_put, sep=',',index=False)\n",
        "#     # return d1"
      ]
    },
    {
      "cell_type": "code",
      "source": [
        "a = read_path(path,output_dir)\n",
        "print(len(a))"
      ],
      "metadata": {
        "id": "FyYgW_03lZa7",
        "colab": {
          "base_uri": "https://localhost:8080/"
        },
        "outputId": "3fe72383-c0db-4238-fd35-1a3a76f69cb4"
      },
      "execution_count": 6,
      "outputs": [
        {
          "output_type": "stream",
          "name": "stdout",
          "text": [
            "5005\n"
          ]
        }
      ]
    },
    {
      "cell_type": "markdown",
      "source": [
        "So sánh thời gian đọc ảnh của pil và cv2"
      ],
      "metadata": {
        "id": "98zEXDrpfs1l"
      }
    },
    {
      "cell_type": "code",
      "execution_count": 7,
      "metadata": {
        "id": "v2R-3FYFZmGi"
      },
      "outputs": [],
      "source": [
        "path1 = \"/content/drive/MyDrive/data/Public\"\n",
        "img_path = \"/content/MotocycleDataset.csv\""
      ]
    },
    {
      "cell_type": "code",
      "execution_count": 8,
      "metadata": {
        "id": "0_upibWEarl2"
      },
      "outputs": [],
      "source": [
        "import os\n",
        "from sklearn.model_selection import train_test_split\n",
        "from tensorflow.keras.utils import to_categorical\n",
        "import cv2"
      ]
    },
    {
      "cell_type": "code",
      "execution_count": 9,
      "metadata": {
        "id": "XJPFeA2ebcku"
      },
      "outputs": [],
      "source": [
        "\n",
        "from zipfile import ZipFile\n",
        "import os\n",
        "import cv2\n",
        "import numpy as np\n",
        "import matplotlib.pyplot as plt\n",
        "import torch\n",
        "from torch.utils.data import Dataset\n",
        "from torchvision import datasets\n",
        "from torchvision.transforms import ToTensor\n",
        "import matplotlib.pyplot as plt\n",
        "import pandas as pd\n",
        "from PIL import Image\n",
        "from torchvision import transforms\n",
        "import torch.nn as nn\n",
        "import torch.nn.functional as F\n",
        "import torchvision\n",
        "from sklearn.model_selection import train_test_split\n",
        "from collections import Counter\n"
      ]
    },
    {
      "cell_type": "code",
      "execution_count": 10,
      "metadata": {
        "id": "1VQBI6EFcEen"
      },
      "outputs": [],
      "source": [
        "data = pd.read_csv(img_path)\n",
        "img = data['ImageFullPath']\n",
        "label = data['CategoryID']\n",
        "image = [os.path.join(path1, i) for i in img]"
      ]
    },
    {
      "cell_type": "code",
      "execution_count": 11,
      "metadata": {
        "colab": {
          "base_uri": "https://localhost:8080/"
        },
        "id": "GGfzqy2trvBZ",
        "outputId": "f73159d8-6015-4b1a-edf8-e78823f939d7"
      },
      "outputs": [
        {
          "output_type": "execute_result",
          "data": {
            "text/plain": [
              "5005"
            ]
          },
          "metadata": {},
          "execution_count": 11
        }
      ],
      "source": [
        "len(image)"
      ]
    },
    {
      "cell_type": "code",
      "execution_count": 12,
      "metadata": {
        "id": "xQE7vkZkJDC7"
      },
      "outputs": [],
      "source": [
        "trainX, testX, trainY, testY = train_test_split(image, label, test_size=0.3, random_state=30)\n",
        "train_label_count = Counter(trainY)\n",
        "test_label_count = Counter(testY)"
      ]
    },
    {
      "cell_type": "code",
      "source": [
        "testX, valX, testY, valY = train_test_split(testX, testY, test_size=0.3, random_state=30)"
      ],
      "metadata": {
        "id": "84iqmL7eLrkU"
      },
      "execution_count": 13,
      "outputs": []
    },
    {
      "cell_type": "code",
      "execution_count": 14,
      "metadata": {
        "colab": {
          "base_uri": "https://localhost:8080/"
        },
        "id": "xpu8YUsIGKp8",
        "outputId": "17803543-d5f9-4002-b1a7-ad405f34d006"
      },
      "outputs": [
        {
          "output_type": "execute_result",
          "data": {
            "text/plain": [
              "Counter({3: 705, 1: 720, 2: 703, 0: 689, 4: 686})"
            ]
          },
          "metadata": {},
          "execution_count": 14
        }
      ],
      "source": [
        "train_label_count"
      ]
    },
    {
      "cell_type": "code",
      "execution_count": 15,
      "metadata": {
        "colab": {
          "base_uri": "https://localhost:8080/"
        },
        "id": "BnY3NkuOJpS_",
        "outputId": "f506af58-ceb0-4436-9aae-4b7336bc23db"
      },
      "outputs": [
        {
          "output_type": "execute_result",
          "data": {
            "text/plain": [
              "Counter({4: 315, 1: 281, 3: 296, 2: 298, 0: 312})"
            ]
          },
          "metadata": {},
          "execution_count": 15
        }
      ],
      "source": [
        "test_label_count"
      ]
    },
    {
      "cell_type": "code",
      "source": [
        "print(len(trainX))\n",
        "print(len(testX))\n",
        "print(len(valX))"
      ],
      "metadata": {
        "colab": {
          "base_uri": "https://localhost:8080/"
        },
        "id": "wegTvCeILgzX",
        "outputId": "135faba5-1517-4d25-c8d3-4cccafaf953a"
      },
      "execution_count": 16,
      "outputs": [
        {
          "output_type": "stream",
          "name": "stdout",
          "text": [
            "3503\n",
            "1051\n",
            "451\n"
          ]
        }
      ]
    },
    {
      "cell_type": "code",
      "source": [
        "from PIL import Image, ImageFile\n",
        "ImageFile.LOAD_TRUNCATED_IMAGES = True"
      ],
      "metadata": {
        "id": "K1y0edMlpF0e"
      },
      "execution_count": 17,
      "outputs": []
    },
    {
      "cell_type": "code",
      "execution_count": 18,
      "metadata": {
        "id": "A3Ss9CboavnQ"
      },
      "outputs": [],
      "source": [
        "class CustomDataset(Dataset):\n",
        "    def __init__(self, img_paths, labels, num_classes, transform=None):\n",
        "        self.img_paths = img_paths\n",
        "        self.labels = np.array(labels)  # Convert labels to numpy array\n",
        "        self.num_classes = num_classes\n",
        "        self.transform = transform\n",
        "    def __len__(self):\n",
        "        return len(self.img_paths)\n",
        "\n",
        "    def __getitem__(self, idx):\n",
        "        img_path = self.img_paths[idx]\n",
        "        label = self.labels[idx]  # Retrieve label as integer\n",
        "\n",
        "        img_cv2 = cv2.imread(img_path)\n",
        "        img_cv2_rgb = cv2.cvtColor(img_cv2, cv2.COLOR_BGR2RGB)\n",
        "        img_pil_from_cv2 = Image.fromarray(img_cv2_rgb)\n",
        "\n",
        "        if self.transform:\n",
        "            img_pil_from_cv2 = self.transform(img_pil_from_cv2)\n",
        "\n",
        "        # Convert image to float32\n",
        "        img_pil_from_cv2 = img_pil_from_cv2.to(dtype=torch.float32)\n",
        "\n",
        "        return img_pil_from_cv2,torch.tensor(label, dtype=torch.long)"
      ]
    },
    {
      "cell_type": "code",
      "execution_count": 19,
      "metadata": {
        "id": "ktMJ2EE1bgAU"
      },
      "outputs": [],
      "source": [
        "data_transforms = {\n",
        "    'train': transforms.Compose([\n",
        "        transforms.Resize((224,224)),\n",
        "        transforms.RandomHorizontalFlip(),\n",
        "        #transforms.CenterCrop(160),\n",
        "        # torchvision.transforms.ColorJitter(hue=.05, saturation=.05),\n",
        "        transforms.ToTensor(),\n",
        "        transforms.Normalize([0.5, 0.5, 0.5], [0.5, 0.5, 0.5])\n",
        "    ]),\n",
        "    'val': transforms.Compose([\n",
        "        transforms.Resize((224,224)),\n",
        "        #transforms.CenterCrop(160),\n",
        "        transforms.ToTensor(),\n",
        "        transforms.Normalize([0.5, 0.5, 0.5], [0.5, 0.5, 0.5])\n",
        "    ]),\n",
        "    'test': transforms.Compose([\n",
        "        transforms.Resize((224,224)),\n",
        "        #transforms.CenterCrop(160),\n",
        "        transforms.ToTensor(),\n",
        "        transforms.Normalize([0.5, 0.5, 0.5], [0.5, 0.5, 0.5])\n",
        "    ]),\n",
        "}"
      ]
    },
    {
      "cell_type": "code",
      "execution_count": 20,
      "metadata": {
        "id": "p__qfG7GFDRt"
      },
      "outputs": [],
      "source": [
        "from torch.utils.data import Dataset, DataLoader"
      ]
    },
    {
      "cell_type": "code",
      "execution_count": 21,
      "metadata": {
        "id": "0UCgZ1Xyawo2",
        "colab": {
          "base_uri": "https://localhost:8080/"
        },
        "outputId": "5c9df539-2b1c-4817-fa12-234daa89e59e"
      },
      "outputs": [
        {
          "output_type": "stream",
          "name": "stderr",
          "text": [
            "/usr/local/lib/python3.10/dist-packages/torch/utils/data/dataloader.py:558: UserWarning: This DataLoader will create 8 worker processes in total. Our suggested max number of worker in current system is 2, which is smaller than what this DataLoader is going to create. Please be aware that excessive worker creation might get DataLoader running slow or even freeze, lower the worker number to avoid potential slowness/freeze if necessary.\n",
            "  warnings.warn(_create_warning_msg(\n"
          ]
        }
      ],
      "source": [
        "train_set = CustomDataset(trainX, trainY, num_classes = 5, transform=data_transforms['train'])\n",
        "val_set = CustomDataset(valX,valY, num_classes = 5, transform=data_transforms['val'])\n",
        "test_set = CustomDataset(testX,testY, num_classes = 5, transform=data_transforms['test'])\n",
        "\n",
        "train_loader = DataLoader(train_set, batch_size=32, shuffle=True, pin_memory=True,num_workers=8)\n",
        "val_loader = DataLoader(val_set, batch_size=32, shuffle=True, pin_memory=True,num_workers= 8)\n",
        "test_loader = DataLoader(test_set, batch_size=32, shuffle=False,pin_memory=True,num_workers= 8)"
      ]
    },
    {
      "cell_type": "code",
      "execution_count": null,
      "metadata": {
        "colab": {
          "base_uri": "https://localhost:8080/"
        },
        "id": "xKHo1nOZMQx_",
        "outputId": "34236ff3-e1b2-44e8-d302-906d85fb2759",
        "collapsed": true
      },
      "outputs": [
        {
          "output_type": "stream",
          "name": "stdout",
          "text": [
            "tensor([[[[ 1.0000,  1.0000,  1.0000,  ...,  0.5373,  0.5922,  0.6549],\n",
            "          [ 1.0000,  1.0000,  1.0000,  ...,  0.5294,  0.5451,  0.6235],\n",
            "          [ 1.0000,  1.0000,  1.0000,  ...,  0.5294,  0.5294,  0.5608],\n",
            "          ...,\n",
            "          [-0.8510, -0.8118, -0.7647,  ..., -0.5843, -0.5216, -0.6314],\n",
            "          [-0.8275, -0.8196, -0.8039,  ..., -0.6471, -0.4980, -0.6078],\n",
            "          [-0.7961, -0.7804, -0.7725,  ..., -0.7412, -0.5294, -0.5373]],\n",
            "\n",
            "         [[ 1.0000,  1.0000,  1.0000,  ...,  0.5451,  0.6157,  0.6784],\n",
            "          [ 1.0000,  1.0000,  1.0000,  ...,  0.5451,  0.5686,  0.6471],\n",
            "          [ 1.0000,  1.0000,  1.0000,  ...,  0.5451,  0.5529,  0.5843],\n",
            "          ...,\n",
            "          [-0.8431, -0.8039, -0.7569,  ..., -0.5765, -0.5137, -0.6235],\n",
            "          [-0.8196, -0.8118, -0.7961,  ..., -0.6392, -0.4902, -0.6000],\n",
            "          [-0.7882, -0.7725, -0.7647,  ..., -0.7333, -0.5216, -0.5294]],\n",
            "\n",
            "         [[ 1.0000,  1.0000,  1.0000,  ...,  0.5922,  0.6549,  0.7176],\n",
            "          [ 1.0000,  1.0000,  1.0000,  ...,  0.5922,  0.6157,  0.6784],\n",
            "          [ 1.0000,  1.0000,  1.0000,  ...,  0.5843,  0.5922,  0.6235],\n",
            "          ...,\n",
            "          [-0.8118, -0.7725, -0.7255,  ..., -0.5451, -0.4824, -0.5922],\n",
            "          [-0.7882, -0.7804, -0.7647,  ..., -0.6078, -0.4588, -0.5686],\n",
            "          [-0.7569, -0.7412, -0.7333,  ..., -0.7020, -0.4902, -0.4980]]],\n",
            "\n",
            "\n",
            "        [[[ 1.0000,  1.0000,  1.0000,  ...,  0.9529,  0.9765,  0.9922],\n",
            "          [ 1.0000,  1.0000,  1.0000,  ...,  0.9686,  0.9608,  0.9765],\n",
            "          [ 1.0000,  1.0000,  1.0000,  ...,  0.9294,  0.9686,  0.9765],\n",
            "          ...,\n",
            "          [-0.8667, -0.8667, -0.8431,  ...,  0.2000,  0.1922,  0.2000],\n",
            "          [-0.8745, -0.9216, -0.9843,  ...,  0.2863,  0.1137,  0.0431],\n",
            "          [-0.9529, -0.9843, -0.9843,  ...,  0.6941,  0.3804,  0.1843]],\n",
            "\n",
            "         [[ 1.0000,  1.0000,  1.0000,  ...,  0.9529,  0.9765,  0.9922],\n",
            "          [ 1.0000,  1.0000,  1.0000,  ...,  0.9686,  0.9608,  0.9765],\n",
            "          [ 1.0000,  1.0000,  1.0000,  ...,  0.9294,  0.9686,  0.9765],\n",
            "          ...,\n",
            "          [-0.8667, -0.8667, -0.8353,  ...,  0.1843,  0.1843,  0.2000],\n",
            "          [-0.8745, -0.9216, -0.9765,  ...,  0.2706,  0.1059,  0.0431],\n",
            "          [-0.9529, -0.9765, -0.9765,  ...,  0.6863,  0.3725,  0.2000]],\n",
            "\n",
            "         [[ 1.0000,  1.0000,  1.0000,  ...,  0.9529,  0.9765,  0.9922],\n",
            "          [ 1.0000,  1.0000,  1.0000,  ...,  0.9686,  0.9608,  0.9765],\n",
            "          [ 1.0000,  1.0000,  1.0000,  ...,  0.9294,  0.9686,  0.9765],\n",
            "          ...,\n",
            "          [-0.8667, -0.8667, -0.8353,  ...,  0.2078,  0.2235,  0.2314],\n",
            "          [-0.8745, -0.9216, -0.9765,  ...,  0.2706,  0.1216,  0.0588],\n",
            "          [-0.9529, -0.9843, -0.9843,  ...,  0.6706,  0.3725,  0.2000]]],\n",
            "\n",
            "\n",
            "        [[[ 0.4118,  0.4118,  0.3725,  ..., -0.8745, -0.9373, -0.9529],\n",
            "          [ 0.4275,  0.4196,  0.3333,  ..., -0.8824, -0.9216, -0.9373],\n",
            "          [ 0.4275,  0.4275,  0.2941,  ..., -0.8588, -0.9059, -0.9216],\n",
            "          ...,\n",
            "          [-0.2392, -0.2314, -0.2314,  ..., -0.3882, -0.3961, -0.3804],\n",
            "          [-0.2157, -0.2157, -0.2078,  ..., -0.3412, -0.3490, -0.3647],\n",
            "          [-0.2314, -0.2235, -0.1843,  ..., -0.3098, -0.3333, -0.3333]],\n",
            "\n",
            "         [[ 0.4039,  0.4039,  0.3647,  ..., -0.8824, -0.9294, -0.9294],\n",
            "          [ 0.4118,  0.4118,  0.3255,  ..., -0.8824, -0.9137, -0.9216],\n",
            "          [ 0.4118,  0.4118,  0.2863,  ..., -0.8667, -0.8980, -0.9059],\n",
            "          ...,\n",
            "          [-0.2549, -0.2471, -0.2471,  ..., -0.4275, -0.4275, -0.4118],\n",
            "          [-0.2314, -0.2314, -0.2235,  ..., -0.3725, -0.3804, -0.3961],\n",
            "          [-0.2471, -0.2392, -0.2078,  ..., -0.3412, -0.3647, -0.3647]],\n",
            "\n",
            "         [[ 0.3647,  0.3647,  0.3255,  ..., -0.8431, -0.8902, -0.8980],\n",
            "          [ 0.3725,  0.3725,  0.2863,  ..., -0.8431, -0.8745, -0.8902],\n",
            "          [ 0.3647,  0.3647,  0.2392,  ..., -0.8275, -0.8588, -0.8745],\n",
            "          ...,\n",
            "          [-0.2863, -0.2941, -0.2941,  ..., -0.4431, -0.4510, -0.4275],\n",
            "          [-0.2627, -0.2627, -0.2706,  ..., -0.3961, -0.4118, -0.4275],\n",
            "          [-0.2784, -0.2706, -0.2471,  ..., -0.3647, -0.3961, -0.4118]]],\n",
            "\n",
            "\n",
            "        ...,\n",
            "\n",
            "\n",
            "        [[[ 0.1765,  0.2706,  0.6157,  ..., -0.3882, -0.3490, -0.4275],\n",
            "          [ 0.3176,  0.2392,  0.4275,  ..., -0.5059, -0.4980, -0.4745],\n",
            "          [ 0.6941,  0.4667,  0.4196,  ..., -0.6078, -0.5294, -0.4980],\n",
            "          ...,\n",
            "          [-0.5373, -0.5529, -0.5922,  ...,  0.2627,  0.2627,  0.2706],\n",
            "          [-0.4196, -0.4196, -0.4275,  ...,  0.2471,  0.2471,  0.2471],\n",
            "          [-0.3804, -0.4039, -0.3961,  ...,  0.2471,  0.2471,  0.2471]],\n",
            "\n",
            "         [[ 0.2471,  0.3098,  0.6314,  ..., -0.3176, -0.2784, -0.3647],\n",
            "          [ 0.3647,  0.2549,  0.4275,  ..., -0.4275, -0.4196, -0.4039],\n",
            "          [ 0.7333,  0.4667,  0.4039,  ..., -0.5137, -0.4431, -0.4196],\n",
            "          ...,\n",
            "          [-0.4588, -0.4745, -0.5216,  ...,  0.2941,  0.2941,  0.3020],\n",
            "          [-0.3490, -0.3647, -0.3804,  ...,  0.2784,  0.2784,  0.2784],\n",
            "          [-0.3255, -0.3569, -0.3569,  ...,  0.2784,  0.2784,  0.2784]],\n",
            "\n",
            "         [[ 0.0431,  0.1294,  0.4667,  ..., -0.5451, -0.5608, -0.6863],\n",
            "          [ 0.1843,  0.0902,  0.2706,  ..., -0.6471, -0.6863, -0.7176],\n",
            "          [ 0.5608,  0.3098,  0.2549,  ..., -0.7176, -0.6941, -0.7255],\n",
            "          ...,\n",
            "          [-0.3255, -0.3490, -0.3961,  ...,  0.2863,  0.2863,  0.2941],\n",
            "          [-0.2078, -0.2235, -0.2314,  ...,  0.2706,  0.2706,  0.2706],\n",
            "          [-0.1765, -0.2078, -0.2078,  ...,  0.2706,  0.2706,  0.2706]]],\n",
            "\n",
            "\n",
            "        [[[ 0.3961,  0.3961,  0.3882,  ...,  0.7333,  0.7412,  0.7255],\n",
            "          [ 0.4275,  0.4275,  0.4275,  ...,  0.7569,  0.7569,  0.7569],\n",
            "          [ 0.4588,  0.4588,  0.4588,  ...,  0.7725,  0.7647,  0.7647],\n",
            "          ...,\n",
            "          [-0.2078, -0.1294, -0.2078,  ..., -0.3647, -0.2235, -0.2941],\n",
            "          [-0.3020, -0.1216, -0.0980,  ..., -0.2078, -0.0745, -0.1216],\n",
            "          [-0.3961, -0.1608,  0.0275,  ..., -0.0902,  0.0118, -0.0667]],\n",
            "\n",
            "         [[ 0.3961,  0.4039,  0.4118,  ...,  0.8039,  0.8118,  0.7961],\n",
            "          [ 0.4667,  0.4745,  0.4824,  ...,  0.8196,  0.8196,  0.8196],\n",
            "          [ 0.5294,  0.5373,  0.5373,  ...,  0.8275,  0.8353,  0.8275],\n",
            "          ...,\n",
            "          [-0.1686, -0.0745, -0.1608,  ..., -0.3412, -0.2000, -0.2706],\n",
            "          [-0.2941, -0.1137, -0.0745,  ..., -0.1529, -0.0510, -0.0980],\n",
            "          [-0.4431, -0.2078,  0.0196,  ..., -0.0353,  0.0667, -0.0196]],\n",
            "\n",
            "         [[ 0.0431,  0.0431,  0.0431,  ...,  0.4196,  0.4353,  0.4275],\n",
            "          [ 0.1294,  0.1216,  0.1137,  ...,  0.5059,  0.4980,  0.4980],\n",
            "          [ 0.1922,  0.1922,  0.1922,  ...,  0.5216,  0.4980,  0.5059],\n",
            "          ...,\n",
            "          [-0.3882, -0.2941, -0.3804,  ..., -0.4510, -0.2941, -0.3725],\n",
            "          [-0.5373, -0.3176, -0.2706,  ..., -0.2784, -0.1529, -0.2000],\n",
            "          [-0.6784, -0.4039, -0.1765,  ..., -0.1451, -0.0431, -0.1373]]],\n",
            "\n",
            "\n",
            "        [[[ 0.8980,  0.3333,  0.5059,  ..., -0.0118,  0.4353,  0.6392],\n",
            "          [ 0.9059,  0.3412,  0.4275,  ...,  0.2706,  0.3490,  0.6314],\n",
            "          [ 0.9294,  0.3412, -0.0431,  ...,  0.4275,  0.2941,  0.3176],\n",
            "          ...,\n",
            "          [-0.4510, -0.5216, -0.5843,  ...,  0.9765,  0.9765,  0.9765],\n",
            "          [-0.4118, -0.4745, -0.6000,  ...,  0.9765,  0.9765,  0.9765],\n",
            "          [-0.3882, -0.4980, -0.5686,  ...,  0.9765,  0.9765,  0.9765]],\n",
            "\n",
            "         [[ 0.8118,  0.2549,  0.4588,  ..., -0.0275,  0.4588,  0.7020],\n",
            "          [ 0.8196,  0.2549,  0.3725,  ...,  0.2157,  0.3490,  0.6627],\n",
            "          [ 0.8353,  0.2627, -0.0980,  ...,  0.3804,  0.3020,  0.3333],\n",
            "          ...,\n",
            "          [-0.4824, -0.5451, -0.6078,  ...,  0.8431,  0.8431,  0.8510],\n",
            "          [-0.4431, -0.5137, -0.6157,  ...,  0.8431,  0.8588,  0.8588],\n",
            "          [-0.4275, -0.5294, -0.5843,  ...,  0.8588,  0.8588,  0.8588]],\n",
            "\n",
            "         [[ 0.5608,  0.0667,  0.3098,  ..., -0.0431,  0.5294,  0.8902],\n",
            "          [ 0.5686,  0.0667,  0.2157,  ...,  0.1294,  0.3725,  0.7961],\n",
            "          [ 0.5843,  0.0980, -0.2235,  ...,  0.2863,  0.3333,  0.3882],\n",
            "          ...,\n",
            "          [-0.5843, -0.6471, -0.7020,  ...,  0.5059,  0.5137,  0.5137],\n",
            "          [-0.5608, -0.6157, -0.7098,  ...,  0.5216,  0.5529,  0.5529],\n",
            "          [-0.5373, -0.6314, -0.6784,  ...,  0.5686,  0.5765,  0.5765]]]])\n",
            "tensor([1, 3, 4, 1, 2, 1, 2, 0, 1, 3, 2, 3, 2, 3, 3, 0, 0, 0, 3, 2, 2, 0, 1, 2,\n",
            "        0, 4, 1, 4, 3, 3, 2, 2])\n"
          ]
        }
      ],
      "source": [
        "for i in test_loader:\n",
        "  a,b = i\n",
        "  print(a)\n",
        "  print(b)\n",
        "  break"
      ]
    },
    {
      "cell_type": "code",
      "execution_count": 27,
      "metadata": {
        "colab": {
          "base_uri": "https://localhost:8080/"
        },
        "id": "ZzfaOiNhF11O",
        "outputId": "e5bf37f0-c7ab-46e6-d2cd-ddf01666b5a4"
      },
      "outputs": [
        {
          "output_type": "stream",
          "name": "stdout",
          "text": [
            "3503\n",
            "1051\n"
          ]
        }
      ],
      "source": [
        "print(len(train_loader.dataset))\n",
        "print(len(test_loader.dataset))"
      ]
    },
    {
      "cell_type": "code",
      "execution_count": 28,
      "metadata": {
        "id": "T3xGGo-layIF"
      },
      "outputs": [],
      "source": [
        "def show_batch_images(images, labels, mean, std, max_images=16):\n",
        "    plt.figure(figsize=(12, 12))\n",
        "    for i in range(min(len(images), max_images)):\n",
        "        image = images[i].numpy().transpose((1, 2, 0))  # Chuyển tensor từ dạng (C, H, W) sang (H, W, C)\n",
        "\n",
        "        # Hoàn tác chuẩn hóa\n",
        "        image = std * image + mean\n",
        "        image = np.clip(image, 0, 1)  # Đảm bảo giá trị nằm trong khoảng [0, 1]\n",
        "\n",
        "        plt.subplot(4, 4, i + 1)  # 4 hàng và 4 cột\n",
        "        plt.imshow(image)\n",
        "        plt.title(f'Label: {labels[i]}')\n",
        "        plt.axis('off')\n",
        "    plt.show()"
      ]
    },
    {
      "cell_type": "code",
      "source": [
        "mean = np.array([0.5, 0.5, 0.5])\n",
        "std = np.array([0.5,0.5,0.5])"
      ],
      "metadata": {
        "id": "slg3NwRr710Y"
      },
      "execution_count": 22,
      "outputs": []
    },
    {
      "cell_type": "code",
      "execution_count": null,
      "metadata": {
        "id": "VW5gyHOIcY4_"
      },
      "outputs": [],
      "source": [
        "mean = np.array([0.5, 0.5, 0.5])\n",
        "std = np.array([0.5,0.5,0.5])\n",
        "\n",
        "for images, labels in train_loader:\n",
        "    show_batch_images(images, labels, mean, std)\n",
        "    break"
      ]
    },
    {
      "cell_type": "code",
      "execution_count": 23,
      "metadata": {
        "id": "2Z2NxaR9dLsO"
      },
      "outputs": [],
      "source": [
        "from tempfile import TemporaryDirectory\n",
        "import torch.optim as optim\n",
        "import time\n"
      ]
    },
    {
      "cell_type": "code",
      "execution_count": 24,
      "metadata": {
        "id": "r6DpXa-XLI8v"
      },
      "outputs": [],
      "source": [
        "device = torch.device('cuda' if torch.cuda.is_available() else 'cpu')"
      ]
    },
    {
      "cell_type": "code",
      "execution_count": 25,
      "metadata": {
        "colab": {
          "base_uri": "https://localhost:8080/"
        },
        "id": "vzBGw8lTLNRd",
        "outputId": "9fb1619b-3b15-4ff9-a914-c2702f636f2e"
      },
      "outputs": [
        {
          "output_type": "execute_result",
          "data": {
            "text/plain": [
              "device(type='cuda')"
            ]
          },
          "metadata": {},
          "execution_count": 25
        }
      ],
      "source": [
        "device"
      ]
    },
    {
      "cell_type": "code",
      "source": [
        "import copy"
      ],
      "metadata": {
        "id": "YIilcM1nj67n"
      },
      "execution_count": 26,
      "outputs": []
    },
    {
      "cell_type": "code",
      "source": [
        "!pip install tqdm"
      ],
      "metadata": {
        "colab": {
          "base_uri": "https://localhost:8080/"
        },
        "id": "LEzwoXSlN7le",
        "outputId": "0ee175b6-7743-4880-8b34-3705367ca9ee"
      },
      "execution_count": 27,
      "outputs": [
        {
          "output_type": "stream",
          "name": "stdout",
          "text": [
            "Requirement already satisfied: tqdm in /usr/local/lib/python3.10/dist-packages (4.66.4)\n"
          ]
        }
      ]
    },
    {
      "cell_type": "code",
      "source": [
        "from tqdm import tqdm"
      ],
      "metadata": {
        "id": "k9_V9mUSOGgq"
      },
      "execution_count": 28,
      "outputs": []
    },
    {
      "cell_type": "code",
      "source": [
        "def plot_training_history(train_loss_history, val_loss_history, train_acc_history, val_acc_history):\n",
        "    # Ensure that the histories are converted to NumPy arrays if they are tensors\n",
        "    if isinstance(train_loss_history, torch.Tensor):\n",
        "        train_loss_history = train_loss_history.detach().cpu().numpy()\n",
        "    if isinstance(val_loss_history, torch.Tensor):\n",
        "        val_loss_history = val_loss_history.detach().cpu().numpy()\n",
        "    if isinstance(train_acc_history, torch.Tensor):\n",
        "        train_acc_history = train_acc_history.detach().cpu().numpy()\n",
        "    if isinstance(val_acc_history, torch.Tensor):\n",
        "        val_acc_history = val_acc_history.detach().cpu().numpy()\n",
        "\n",
        "    # Vẽ biểu đồ loss\n",
        "    plt.figure(figsize=(10, 5))\n",
        "    plt.subplot(1, 2, 1)\n",
        "    plt.plot(train_loss_history, label='Train Loss')\n",
        "    plt.plot(val_loss_history, label='Val Loss')\n",
        "    plt.xlabel('Epoch')\n",
        "    plt.ylabel('Loss')\n",
        "    plt.legend()\n",
        "    plt.title('Training and Validation Loss')\n",
        "\n",
        "    # Vẽ biểu đồ accuracy\n",
        "    plt.subplot(1, 2, 2)\n",
        "    plt.plot(train_acc_history, label='Train Accuracy')\n",
        "    plt.plot(val_acc_history, label='Val Accuracy')\n",
        "    plt.xlabel('Epoch')\n",
        "    plt.ylabel('Accuracy')\n",
        "    plt.legend()\n",
        "    plt.title('Training and Validation Accuracy')\n",
        "\n",
        "    plt.tight_layout()\n",
        "    plt.show()"
      ],
      "metadata": {
        "id": "QVIhwl7yJJ3Z"
      },
      "execution_count": 29,
      "outputs": []
    },
    {
      "cell_type": "code",
      "execution_count": 30,
      "metadata": {
        "id": "-MxXIzPeL2vF"
      },
      "outputs": [],
      "source": [
        "import torchvision.models as models\n",
        "from torch.optim import lr_scheduler"
      ]
    },
    {
      "cell_type": "code",
      "execution_count": null,
      "metadata": {
        "id": "ENIviS7eL3Qj"
      },
      "outputs": [],
      "source": [
        "model_ft = models.vit_b_16(weights='ViT_B_16_Weights.IMAGENET1K_V1')\n",
        "\n",
        "# Freeze model parameters\n",
        "for param in model_ft.parameters():\n",
        "    param.requires_grad = False\n",
        "\n",
        "# Replace the last fully connected layer with a new one\n",
        "num_ftrs = model_ft.heads.head.in_features\n",
        "model_ft.fc = nn.Sequential(\n",
        "    nn.Linear(num_ftrs, 256),\n",
        "    nn.ReLU(),\n",
        "    nn.Dropout(0.5),\n",
        "    nn.Linear(256, 5)\n",
        ")\n",
        "\n",
        "# Move model to device (GPU if available)\n",
        "for param in model_ft.heads.head.parameters():\n",
        "    param.requires_grad = True\n",
        "\n",
        "# Move model to device (GPU if available)\n",
        "model_ft = model_ft.to(device)\n",
        "\n",
        "# Print the modified model architecture\n",
        "print(model_ft)"
      ]
    },
    {
      "cell_type": "code",
      "execution_count": 59,
      "metadata": {
        "id": "SDpN9mDIMCgD"
      },
      "outputs": [],
      "source": [
        "criterion = nn.CrossEntropyLoss()\n",
        "\n",
        "# Define optimizer (SGD with momentum)\n",
        "optimizer = optim.AdamW(model_ft.parameters(), lr=0.001, weight_decay=0.01)\n",
        "\n",
        "# Define learning rate scheduler (decay LR by a factor of 0.1 every 7 epochs)\n",
        "exp_lr_scheduler = lr_scheduler.StepLR(optimizer, step_size=5, gamma=0.1)"
      ]
    },
    {
      "cell_type": "code",
      "execution_count": 43,
      "metadata": {
        "colab": {
          "base_uri": "https://localhost:8080/"
        },
        "id": "yMFVjcj6MVgH",
        "outputId": "89dc9583-4546-4974-e721-d1cd691a01a5",
        "collapsed": true
      },
      "outputs": [
        {
          "output_type": "stream",
          "name": "stdout",
          "text": [
            "VisionTransformer(\n",
            "  (conv_proj): Conv2d(3, 768, kernel_size=(16, 16), stride=(16, 16))\n",
            "  (encoder): Encoder(\n",
            "    (dropout): Dropout(p=0.0, inplace=False)\n",
            "    (layers): Sequential(\n",
            "      (encoder_layer_0): EncoderBlock(\n",
            "        (ln_1): LayerNorm((768,), eps=1e-06, elementwise_affine=True)\n",
            "        (self_attention): MultiheadAttention(\n",
            "          (out_proj): NonDynamicallyQuantizableLinear(in_features=768, out_features=768, bias=True)\n",
            "        )\n",
            "        (dropout): Dropout(p=0.0, inplace=False)\n",
            "        (ln_2): LayerNorm((768,), eps=1e-06, elementwise_affine=True)\n",
            "        (mlp): MLPBlock(\n",
            "          (0): Linear(in_features=768, out_features=3072, bias=True)\n",
            "          (1): GELU(approximate='none')\n",
            "          (2): Dropout(p=0.0, inplace=False)\n",
            "          (3): Linear(in_features=3072, out_features=768, bias=True)\n",
            "          (4): Dropout(p=0.0, inplace=False)\n",
            "        )\n",
            "      )\n",
            "      (encoder_layer_1): EncoderBlock(\n",
            "        (ln_1): LayerNorm((768,), eps=1e-06, elementwise_affine=True)\n",
            "        (self_attention): MultiheadAttention(\n",
            "          (out_proj): NonDynamicallyQuantizableLinear(in_features=768, out_features=768, bias=True)\n",
            "        )\n",
            "        (dropout): Dropout(p=0.0, inplace=False)\n",
            "        (ln_2): LayerNorm((768,), eps=1e-06, elementwise_affine=True)\n",
            "        (mlp): MLPBlock(\n",
            "          (0): Linear(in_features=768, out_features=3072, bias=True)\n",
            "          (1): GELU(approximate='none')\n",
            "          (2): Dropout(p=0.0, inplace=False)\n",
            "          (3): Linear(in_features=3072, out_features=768, bias=True)\n",
            "          (4): Dropout(p=0.0, inplace=False)\n",
            "        )\n",
            "      )\n",
            "      (encoder_layer_2): EncoderBlock(\n",
            "        (ln_1): LayerNorm((768,), eps=1e-06, elementwise_affine=True)\n",
            "        (self_attention): MultiheadAttention(\n",
            "          (out_proj): NonDynamicallyQuantizableLinear(in_features=768, out_features=768, bias=True)\n",
            "        )\n",
            "        (dropout): Dropout(p=0.0, inplace=False)\n",
            "        (ln_2): LayerNorm((768,), eps=1e-06, elementwise_affine=True)\n",
            "        (mlp): MLPBlock(\n",
            "          (0): Linear(in_features=768, out_features=3072, bias=True)\n",
            "          (1): GELU(approximate='none')\n",
            "          (2): Dropout(p=0.0, inplace=False)\n",
            "          (3): Linear(in_features=3072, out_features=768, bias=True)\n",
            "          (4): Dropout(p=0.0, inplace=False)\n",
            "        )\n",
            "      )\n",
            "      (encoder_layer_3): EncoderBlock(\n",
            "        (ln_1): LayerNorm((768,), eps=1e-06, elementwise_affine=True)\n",
            "        (self_attention): MultiheadAttention(\n",
            "          (out_proj): NonDynamicallyQuantizableLinear(in_features=768, out_features=768, bias=True)\n",
            "        )\n",
            "        (dropout): Dropout(p=0.0, inplace=False)\n",
            "        (ln_2): LayerNorm((768,), eps=1e-06, elementwise_affine=True)\n",
            "        (mlp): MLPBlock(\n",
            "          (0): Linear(in_features=768, out_features=3072, bias=True)\n",
            "          (1): GELU(approximate='none')\n",
            "          (2): Dropout(p=0.0, inplace=False)\n",
            "          (3): Linear(in_features=3072, out_features=768, bias=True)\n",
            "          (4): Dropout(p=0.0, inplace=False)\n",
            "        )\n",
            "      )\n",
            "      (encoder_layer_4): EncoderBlock(\n",
            "        (ln_1): LayerNorm((768,), eps=1e-06, elementwise_affine=True)\n",
            "        (self_attention): MultiheadAttention(\n",
            "          (out_proj): NonDynamicallyQuantizableLinear(in_features=768, out_features=768, bias=True)\n",
            "        )\n",
            "        (dropout): Dropout(p=0.0, inplace=False)\n",
            "        (ln_2): LayerNorm((768,), eps=1e-06, elementwise_affine=True)\n",
            "        (mlp): MLPBlock(\n",
            "          (0): Linear(in_features=768, out_features=3072, bias=True)\n",
            "          (1): GELU(approximate='none')\n",
            "          (2): Dropout(p=0.0, inplace=False)\n",
            "          (3): Linear(in_features=3072, out_features=768, bias=True)\n",
            "          (4): Dropout(p=0.0, inplace=False)\n",
            "        )\n",
            "      )\n",
            "      (encoder_layer_5): EncoderBlock(\n",
            "        (ln_1): LayerNorm((768,), eps=1e-06, elementwise_affine=True)\n",
            "        (self_attention): MultiheadAttention(\n",
            "          (out_proj): NonDynamicallyQuantizableLinear(in_features=768, out_features=768, bias=True)\n",
            "        )\n",
            "        (dropout): Dropout(p=0.0, inplace=False)\n",
            "        (ln_2): LayerNorm((768,), eps=1e-06, elementwise_affine=True)\n",
            "        (mlp): MLPBlock(\n",
            "          (0): Linear(in_features=768, out_features=3072, bias=True)\n",
            "          (1): GELU(approximate='none')\n",
            "          (2): Dropout(p=0.0, inplace=False)\n",
            "          (3): Linear(in_features=3072, out_features=768, bias=True)\n",
            "          (4): Dropout(p=0.0, inplace=False)\n",
            "        )\n",
            "      )\n",
            "      (encoder_layer_6): EncoderBlock(\n",
            "        (ln_1): LayerNorm((768,), eps=1e-06, elementwise_affine=True)\n",
            "        (self_attention): MultiheadAttention(\n",
            "          (out_proj): NonDynamicallyQuantizableLinear(in_features=768, out_features=768, bias=True)\n",
            "        )\n",
            "        (dropout): Dropout(p=0.0, inplace=False)\n",
            "        (ln_2): LayerNorm((768,), eps=1e-06, elementwise_affine=True)\n",
            "        (mlp): MLPBlock(\n",
            "          (0): Linear(in_features=768, out_features=3072, bias=True)\n",
            "          (1): GELU(approximate='none')\n",
            "          (2): Dropout(p=0.0, inplace=False)\n",
            "          (3): Linear(in_features=3072, out_features=768, bias=True)\n",
            "          (4): Dropout(p=0.0, inplace=False)\n",
            "        )\n",
            "      )\n",
            "      (encoder_layer_7): EncoderBlock(\n",
            "        (ln_1): LayerNorm((768,), eps=1e-06, elementwise_affine=True)\n",
            "        (self_attention): MultiheadAttention(\n",
            "          (out_proj): NonDynamicallyQuantizableLinear(in_features=768, out_features=768, bias=True)\n",
            "        )\n",
            "        (dropout): Dropout(p=0.0, inplace=False)\n",
            "        (ln_2): LayerNorm((768,), eps=1e-06, elementwise_affine=True)\n",
            "        (mlp): MLPBlock(\n",
            "          (0): Linear(in_features=768, out_features=3072, bias=True)\n",
            "          (1): GELU(approximate='none')\n",
            "          (2): Dropout(p=0.0, inplace=False)\n",
            "          (3): Linear(in_features=3072, out_features=768, bias=True)\n",
            "          (4): Dropout(p=0.0, inplace=False)\n",
            "        )\n",
            "      )\n",
            "      (encoder_layer_8): EncoderBlock(\n",
            "        (ln_1): LayerNorm((768,), eps=1e-06, elementwise_affine=True)\n",
            "        (self_attention): MultiheadAttention(\n",
            "          (out_proj): NonDynamicallyQuantizableLinear(in_features=768, out_features=768, bias=True)\n",
            "        )\n",
            "        (dropout): Dropout(p=0.0, inplace=False)\n",
            "        (ln_2): LayerNorm((768,), eps=1e-06, elementwise_affine=True)\n",
            "        (mlp): MLPBlock(\n",
            "          (0): Linear(in_features=768, out_features=3072, bias=True)\n",
            "          (1): GELU(approximate='none')\n",
            "          (2): Dropout(p=0.0, inplace=False)\n",
            "          (3): Linear(in_features=3072, out_features=768, bias=True)\n",
            "          (4): Dropout(p=0.0, inplace=False)\n",
            "        )\n",
            "      )\n",
            "      (encoder_layer_9): EncoderBlock(\n",
            "        (ln_1): LayerNorm((768,), eps=1e-06, elementwise_affine=True)\n",
            "        (self_attention): MultiheadAttention(\n",
            "          (out_proj): NonDynamicallyQuantizableLinear(in_features=768, out_features=768, bias=True)\n",
            "        )\n",
            "        (dropout): Dropout(p=0.0, inplace=False)\n",
            "        (ln_2): LayerNorm((768,), eps=1e-06, elementwise_affine=True)\n",
            "        (mlp): MLPBlock(\n",
            "          (0): Linear(in_features=768, out_features=3072, bias=True)\n",
            "          (1): GELU(approximate='none')\n",
            "          (2): Dropout(p=0.0, inplace=False)\n",
            "          (3): Linear(in_features=3072, out_features=768, bias=True)\n",
            "          (4): Dropout(p=0.0, inplace=False)\n",
            "        )\n",
            "      )\n",
            "      (encoder_layer_10): EncoderBlock(\n",
            "        (ln_1): LayerNorm((768,), eps=1e-06, elementwise_affine=True)\n",
            "        (self_attention): MultiheadAttention(\n",
            "          (out_proj): NonDynamicallyQuantizableLinear(in_features=768, out_features=768, bias=True)\n",
            "        )\n",
            "        (dropout): Dropout(p=0.0, inplace=False)\n",
            "        (ln_2): LayerNorm((768,), eps=1e-06, elementwise_affine=True)\n",
            "        (mlp): MLPBlock(\n",
            "          (0): Linear(in_features=768, out_features=3072, bias=True)\n",
            "          (1): GELU(approximate='none')\n",
            "          (2): Dropout(p=0.0, inplace=False)\n",
            "          (3): Linear(in_features=3072, out_features=768, bias=True)\n",
            "          (4): Dropout(p=0.0, inplace=False)\n",
            "        )\n",
            "      )\n",
            "      (encoder_layer_11): EncoderBlock(\n",
            "        (ln_1): LayerNorm((768,), eps=1e-06, elementwise_affine=True)\n",
            "        (self_attention): MultiheadAttention(\n",
            "          (out_proj): NonDynamicallyQuantizableLinear(in_features=768, out_features=768, bias=True)\n",
            "        )\n",
            "        (dropout): Dropout(p=0.0, inplace=False)\n",
            "        (ln_2): LayerNorm((768,), eps=1e-06, elementwise_affine=True)\n",
            "        (mlp): MLPBlock(\n",
            "          (0): Linear(in_features=768, out_features=3072, bias=True)\n",
            "          (1): GELU(approximate='none')\n",
            "          (2): Dropout(p=0.0, inplace=False)\n",
            "          (3): Linear(in_features=3072, out_features=768, bias=True)\n",
            "          (4): Dropout(p=0.0, inplace=False)\n",
            "        )\n",
            "      )\n",
            "    )\n",
            "    (ln): LayerNorm((768,), eps=1e-06, elementwise_affine=True)\n",
            "  )\n",
            "  (heads): Sequential(\n",
            "    (head): Linear(in_features=768, out_features=1000, bias=True)\n",
            "  )\n",
            "  (fc): Sequential(\n",
            "    (0): Linear(in_features=768, out_features=256, bias=True)\n",
            "    (1): ReLU()\n",
            "    (2): Dropout(p=0.5, inplace=False)\n",
            "    (3): Linear(in_features=256, out_features=5, bias=True)\n",
            "  )\n",
            ")\n"
          ]
        }
      ],
      "source": [
        "print(model_ft)"
      ]
    },
    {
      "cell_type": "code",
      "execution_count": 60,
      "metadata": {
        "id": "pKXLeuuIdfZj"
      },
      "outputs": [],
      "source": [
        "import torch\n",
        "import time\n",
        "from tqdm import tqdm\n",
        "\n",
        "def train_model(model, criterion, optimizer, scheduler, num_epochs=15):\n",
        "    since = time.time()\n",
        "    best_model_params_path = '/content/best_model_params1.pt'\n",
        "    torch.save(model.state_dict(), best_model_params_path)\n",
        "    best_acc = 0.0\n",
        "\n",
        "    train_loss_history = []\n",
        "    val_loss_history = []\n",
        "    train_acc_history = []\n",
        "    val_acc_history = []\n",
        "\n",
        "    scaler = torch.cuda.amp.GradScaler()\n",
        "\n",
        "    for epoch in range(num_epochs):\n",
        "        torch.cuda.empty_cache()\n",
        "        print(f'Epoch {epoch+1}/{num_epochs}')\n",
        "        print('-' * 30)\n",
        "\n",
        "        for phase in ['train', 'val']:\n",
        "            if phase == 'train':\n",
        "                model.train()\n",
        "                dataloader = train_loader\n",
        "            else:\n",
        "                model.eval()\n",
        "                dataloader = val_loader\n",
        "\n",
        "            running_loss = 0.0\n",
        "            running_corrects = 0\n",
        "            image_counter = 0\n",
        "\n",
        "            for inputs, labels in tqdm(dataloader, desc=f'{phase} {epoch+1}/{num_epochs}'):\n",
        "                inputs = inputs.to(device)\n",
        "                labels = labels.to(device)\n",
        "                image_counter += len(inputs)\n",
        "                if image_counter % 200 == 0:\n",
        "                    print(f'Processed {image_counter} images in phase: {phase}, epoch: {epoch+1}')\n",
        "\n",
        "                optimizer.zero_grad()\n",
        "\n",
        "                with torch.set_grad_enabled(phase == 'train'):\n",
        "                    with torch.cuda.amp.autocast():\n",
        "                        outputs = model(inputs)\n",
        "                        loss = criterion(outputs, labels)\n",
        "                        _, preds = torch.max(outputs, 1)\n",
        "\n",
        "                    if phase == 'train':\n",
        "                        scaler.scale(loss).backward()\n",
        "                        scaler.step(optimizer)\n",
        "                        scaler.update()\n",
        "\n",
        "                running_loss += loss.item() * inputs.size(0)\n",
        "                running_corrects += torch.sum(preds == labels.data)\n",
        "\n",
        "            if phase == 'train':\n",
        "                scheduler.step()\n",
        "\n",
        "            epoch_loss = running_loss / len(dataloader.dataset)\n",
        "            epoch_acc = running_corrects.double() / len(dataloader.dataset)\n",
        "\n",
        "            print(f'{phase} Loss: {epoch_loss:.4f} Acc: {epoch_acc:.4f}')\n",
        "\n",
        "            if phase == 'train':\n",
        "                train_loss_history.append(epoch_loss)\n",
        "                train_acc_history.append(epoch_acc)\n",
        "            else:\n",
        "                val_loss_history.append(epoch_loss)\n",
        "                val_acc_history.append(epoch_acc)\n",
        "\n",
        "            if phase == 'val' and epoch_acc > best_acc:\n",
        "                best_acc = epoch_acc\n",
        "                torch.save(model.state_dict(), best_model_params_path)\n",
        "\n",
        "        print()\n",
        "\n",
        "    time_elapsed = time.time() - since\n",
        "    print(f'Training complete in {time_elapsed // 60:.0f}m {time_elapsed % 60:.0f}s')\n",
        "    print(f'Best val Acc: {best_acc:.4f}')\n",
        "\n",
        "    model.load_state_dict(torch.load(best_model_params_path))\n",
        "\n",
        "    return model, train_loss_history, val_loss_history, train_acc_history, val_acc_history\n",
        "\n"
      ]
    },
    {
      "cell_type": "code",
      "execution_count": null,
      "metadata": {
        "colab": {
          "base_uri": "https://localhost:8080/"
        },
        "id": "jqvzkerWMYDT",
        "outputId": "b757f0cf-d131-4fe3-e94e-605f6514ba77"
      },
      "outputs": [
        {
          "output_type": "stream",
          "name": "stdout",
          "text": [
            "Epoch 1/15\n",
            "------------------------------\n"
          ]
        },
        {
          "output_type": "stream",
          "name": "stderr",
          "text": [
            "\rtrain 1/15:   0%|          | 0/110 [00:00<?, ?it/s]/usr/local/lib/python3.10/dist-packages/torch/utils/data/dataloader.py:558: UserWarning: This DataLoader will create 8 worker processes in total. Our suggested max number of worker in current system is 2, which is smaller than what this DataLoader is going to create. Please be aware that excessive worker creation might get DataLoader running slow or even freeze, lower the worker number to avoid potential slowness/freeze if necessary.\n",
            "  warnings.warn(_create_warning_msg(\n",
            "/usr/lib/python3.10/multiprocessing/popen_fork.py:66: RuntimeWarning: os.fork() was called. os.fork() is incompatible with multithreaded code, and JAX is multithreaded, so this will likely lead to a deadlock.\n",
            "  self.pid = os.fork()\n",
            "train 1/15:  23%|██▎       | 25/110 [01:26<08:35,  6.07s/it]"
          ]
        },
        {
          "output_type": "stream",
          "name": "stdout",
          "text": [
            "Processed 800 images in phase: train, epoch: 1\n"
          ]
        },
        {
          "output_type": "stream",
          "name": "stderr",
          "text": [
            "train 1/15:  45%|████▌     | 50/110 [01:54<00:35,  1.71it/s]"
          ]
        },
        {
          "output_type": "stream",
          "name": "stdout",
          "text": [
            "Processed 1600 images in phase: train, epoch: 1\n"
          ]
        },
        {
          "output_type": "stream",
          "name": "stderr",
          "text": [
            "train 1/15:  68%|██████▊   | 75/110 [03:02<00:26,  1.30it/s]"
          ]
        },
        {
          "output_type": "stream",
          "name": "stdout",
          "text": [
            "Processed 2400 images in phase: train, epoch: 1\n"
          ]
        },
        {
          "output_type": "stream",
          "name": "stderr",
          "text": [
            "train 1/15:  91%|█████████ | 100/110 [03:42<00:05,  1.78it/s]"
          ]
        },
        {
          "output_type": "stream",
          "name": "stdout",
          "text": [
            "Processed 3200 images in phase: train, epoch: 1\n"
          ]
        },
        {
          "output_type": "stream",
          "name": "stderr",
          "text": [
            "train 1/15: 100%|██████████| 110/110 [03:59<00:00,  2.18s/it]\n"
          ]
        },
        {
          "output_type": "stream",
          "name": "stdout",
          "text": [
            "train Loss: 2.2724 Acc: 0.3160\n"
          ]
        },
        {
          "output_type": "stream",
          "name": "stderr",
          "text": [
            "val 1/15: 100%|██████████| 15/15 [01:26<00:00,  5.78s/it]\n"
          ]
        },
        {
          "output_type": "stream",
          "name": "stdout",
          "text": [
            "val Loss: 1.4570 Acc: 0.4390\n",
            "\n",
            "Epoch 2/15\n",
            "------------------------------\n"
          ]
        },
        {
          "output_type": "stream",
          "name": "stderr",
          "text": [
            "train 2/15:  23%|██▎       | 25/110 [00:44<00:45,  1.88it/s]"
          ]
        },
        {
          "output_type": "stream",
          "name": "stdout",
          "text": [
            "Processed 800 images in phase: train, epoch: 2\n"
          ]
        },
        {
          "output_type": "stream",
          "name": "stderr",
          "text": [
            "train 2/15:  45%|████▌     | 50/110 [01:14<00:18,  3.28it/s]"
          ]
        },
        {
          "output_type": "stream",
          "name": "stdout",
          "text": [
            "Processed 1600 images in phase: train, epoch: 2\n"
          ]
        },
        {
          "output_type": "stream",
          "name": "stderr",
          "text": [
            "train 2/15:  68%|██████▊   | 75/110 [01:56<01:11,  2.05s/it]"
          ]
        },
        {
          "output_type": "stream",
          "name": "stdout",
          "text": [
            "Processed 2400 images in phase: train, epoch: 2\n"
          ]
        },
        {
          "output_type": "stream",
          "name": "stderr",
          "text": [
            "train 2/15:  91%|█████████ | 100/110 [02:34<00:20,  2.07s/it]"
          ]
        },
        {
          "output_type": "stream",
          "name": "stdout",
          "text": [
            "Processed 3200 images in phase: train, epoch: 2\n"
          ]
        },
        {
          "output_type": "stream",
          "name": "stderr",
          "text": [
            "train 2/15: 100%|██████████| 110/110 [02:38<00:00,  1.44s/it]\n"
          ]
        },
        {
          "output_type": "stream",
          "name": "stdout",
          "text": [
            "train Loss: 1.3139 Acc: 0.5024\n"
          ]
        },
        {
          "output_type": "stream",
          "name": "stderr",
          "text": [
            "val 2/15: 100%|██████████| 15/15 [00:20<00:00,  1.39s/it]\n"
          ]
        },
        {
          "output_type": "stream",
          "name": "stdout",
          "text": [
            "val Loss: 1.2734 Acc: 0.4878\n",
            "\n",
            "Epoch 3/15\n",
            "------------------------------\n"
          ]
        },
        {
          "output_type": "stream",
          "name": "stderr",
          "text": [
            "train 3/15:  23%|██▎       | 25/110 [00:48<01:20,  1.06it/s]"
          ]
        },
        {
          "output_type": "stream",
          "name": "stdout",
          "text": [
            "Processed 800 images in phase: train, epoch: 3\n"
          ]
        },
        {
          "output_type": "stream",
          "name": "stderr",
          "text": [
            "train 3/15:  45%|████▌     | 50/110 [01:21<00:34,  1.75it/s]"
          ]
        },
        {
          "output_type": "stream",
          "name": "stdout",
          "text": [
            "Processed 1600 images in phase: train, epoch: 3\n"
          ]
        },
        {
          "output_type": "stream",
          "name": "stderr",
          "text": [
            "train 3/15:  48%|████▊     | 53/110 [01:24<01:05,  1.15s/it]"
          ]
        }
      ],
      "source": [
        "model_ft, train_loss_history, val_loss_history, train_acc_history, val_acc_history = train_model(model_ft, criterion,optimizer,exp_lr_scheduler, num_epochs=15)"
      ]
    },
    {
      "cell_type": "code",
      "source": [
        "def plot_training_history1(train_loss_history, val_loss_history, train_acc_history, val_acc_history):\n",
        "    # Ensure that the histories are converted to NumPy arrays if they are tensors\n",
        "    if isinstance(train_loss_history, torch.Tensor):\n",
        "        train_loss_history = train_loss_history.detach().cpu().numpy()\n",
        "    if isinstance(val_loss_history, torch.Tensor):\n",
        "        val_loss_history = val_loss_history.detach().cpu().numpy()\n",
        "    if isinstance(train_acc_history, torch.Tensor):\n",
        "        train_acc_history = train_acc_history.detach().cpu().numpy() # Move tensor to CPU and convert to NumPy\n",
        "    if isinstance(val_acc_history, torch.Tensor):\n",
        "        val_acc_history = val_acc_history.detach().cpu().numpy() # Move tensor to CPU and convert to NumPy\n",
        "\n",
        "    # Vẽ biểu đồ loss\n",
        "    plt.figure(figsize=(10, 5))\n",
        "    plt.subplot(1, 2, 1)\n",
        "    plt.plot(train_loss_history, label='Train Loss')\n",
        "    plt.plot(val_loss_history, label='Val Loss')\n",
        "    plt.xlabel('Epoch')\n",
        "    plt.ylabel('Loss')\n",
        "    plt.legend()\n",
        "    plt.title('Training and Validation Loss')\n",
        "\n",
        "    # Vẽ biểu đồ accuracy\n",
        "    plt.subplot(1, 2, 2)\n",
        "    plt.plot(train_acc_history, label='Train Accuracy')\n",
        "    plt.plot(val_acc_history, label='Val Accuracy')\n",
        "    plt.xlabel('Epoch')\n",
        "    plt.ylabel('Accuracy')\n",
        "    plt.legend()\n",
        "    plt.title('Training and Validation Accuracy')\n",
        "\n",
        "    plt.tight_layout()\n",
        "    plt.show()"
      ],
      "metadata": {
        "id": "qt-e_apUSZfT"
      },
      "execution_count": null,
      "outputs": []
    },
    {
      "cell_type": "code",
      "source": [
        "def plot_training_history(train_loss_history, val_loss_history, train_acc_history, val_acc_history):\n",
        "    # Ensure that the histories are converted to NumPy arrays if they are tensors\n",
        "    if isinstance(train_loss_history, list):\n",
        "        train_loss_history = [loss.detach().cpu().numpy() if isinstance(loss, torch.Tensor) else loss for loss in train_loss_history]\n",
        "    if isinstance(val_loss_history, list):\n",
        "        val_loss_history = [loss.detach().cpu().numpy() if isinstance(loss, torch.Tensor) else loss for loss in val_loss_history]\n",
        "    if isinstance(train_acc_history, list):\n",
        "        train_acc_history = [acc.detach().cpu().numpy() if isinstance(acc, torch.Tensor) else acc for acc in train_acc_history]\n",
        "    if isinstance(val_acc_history, list):\n",
        "        val_acc_history = [acc.detach().cpu().numpy() if isinstance(acc, torch.Tensor) else acc for acc in val_acc_history]\n",
        "\n",
        "    # Plot loss\n",
        "    plt.figure(figsize=(10, 5))\n",
        "    plt.subplot(1, 2, 1)\n",
        "    plt.plot(train_loss_history, label='Train Loss')\n",
        "    plt.plot(val_loss_history, label='Val Loss')\n",
        "    plt.xlabel('Epoch')\n",
        "    plt.ylabel('Loss')\n",
        "    plt.legend()\n",
        "    plt.title('Training and Validation Loss')\n",
        "\n",
        "    # Plot accuracy\n",
        "    plt.subplot(1, 2, 2)\n",
        "    plt.plot(train_acc_history, label='Train Accuracy')\n",
        "    plt.plot(val_acc_history, label='Val Accuracy')\n",
        "    plt.xlabel('Epoch')\n",
        "    plt.ylabel('Accuracy')\n",
        "    plt.legend()\n",
        "    plt.title('Training and Validation Accuracy')\n",
        "\n",
        "    plt.tight_layout()\n",
        "    plt.show()"
      ],
      "metadata": {
        "id": "gvzaxuOeTF8S"
      },
      "execution_count": null,
      "outputs": []
    },
    {
      "cell_type": "code",
      "source": [
        "plot_training_history(train_loss_history, val_loss_history, train_acc_history, val_acc_history)"
      ],
      "metadata": {
        "id": "CE1mNp2yJeNu",
        "colab": {
          "base_uri": "https://localhost:8080/",
          "height": 507
        },
        "outputId": "8622f53b-cec6-43b7-eca5-0e7a6254b731"
      },
      "execution_count": null,
      "outputs": [
        {
          "output_type": "display_data",
          "data": {
            "text/plain": [
              "<Figure size 1000x500 with 2 Axes>"
            ],
            "image/png": "[encoded data removed]"
          },
          "metadata": {}
        }
      ]
    },
    {
      "cell_type": "markdown",
      "metadata": {
        "id": "JRxdaqvlMlT3"
      },
      "source": [
        "eval"
      ]
    },
    {
      "cell_type": "code",
      "execution_count": null,
      "metadata": {
        "id": "jqCAPERHMl9d",
        "colab": {
          "base_uri": "https://localhost:8080/",
          "height": 581
        },
        "outputId": "f599dc13-43b9-44cc-e8f9-2ca9f3937788"
      },
      "outputs": [
        {
          "output_type": "stream",
          "name": "stdout",
          "text": [
            "Test Accuracy: 0.6430\n"
          ]
        },
        {
          "output_type": "display_data",
          "data": {
            "text/plain": [
              "<Figure size 800x600 with 1 Axes>"
            ],
            "image/png": "[encoded data removed]"
          },
          "metadata": {}
        }
      ],
      "source": [
        "from sklearn.metrics import accuracy_score, confusion_matrix\n",
        "import seaborn as sns\n",
        "import matplotlib.pyplot as plt\n",
        "\n",
        "model_ft.eval()\n",
        "\n",
        "predictions = []\n",
        "true_labels = []\n",
        "\n",
        "# Iterate over test loader\n",
        "for inputs, labels in test_loader:\n",
        "    inputs = inputs.to(device)\n",
        "    labels = labels.to(device)\n",
        "\n",
        "    # Forward pass\n",
        "    outputs = model_ft(inputs)\n",
        "    _, preds = torch.max(outputs, 1)\n",
        "\n",
        "    # Append predictions and true labels\n",
        "    predictions.extend(preds.cpu().numpy())\n",
        "    true_labels.extend(labels.cpu().numpy())\n",
        "\n",
        "# Calculate accuracy\n",
        "accuracy = accuracy_score(true_labels, predictions)\n",
        "print(f'Test Accuracy: {accuracy:.4f}')\n",
        "\n",
        "# Create confusion matrix\n",
        "cm = confusion_matrix(true_labels, predictions)\n",
        "plt.figure(figsize=(8, 6))\n",
        "sns.heatmap(cm, annot=True, fmt='d', cmap='Blues', cbar=False)\n",
        "plt.xlabel('Predicted')\n",
        "plt.ylabel('True')\n",
        "plt.title('Confusion Matrix')\n",
        "plt.show()"
      ]
    },
    {
      "cell_type": "code",
      "source": [],
      "metadata": {
        "id": "_EE5degdN7-1"
      },
      "execution_count": null,
      "outputs": []
    }
  ],
  "metadata": {
    "accelerator": "GPU",
    "colab": {
      "gpuType": "T4",
      "provenance": []
    },
    "kernelspec": {
      "display_name": "Python 3",
      "name": "python3"
    },
    "language_info": {
      "name": "python"
    }
  },
  "nbformat": 4,
  "nbformat_minor": 0
}